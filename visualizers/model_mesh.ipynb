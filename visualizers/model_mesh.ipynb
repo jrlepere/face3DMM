{
 "cells": [
  {
   "cell_type": "code",
   "execution_count": 236,
   "metadata": {},
   "outputs": [],
   "source": [
    "from trimesh.base import Trimesh\n",
    "import h5py\n",
    "import numpy as np"
   ]
  },
  {
   "cell_type": "code",
   "execution_count": 4,
   "metadata": {},
   "outputs": [],
   "source": [
    "def get_model_mesh(points, triangles):\n",
    "    \"\"\"\n",
    "    Gets a trimesh model.\n",
    "    \n",
    "    Args:\n",
    "      points: the model points\n",
    "      triangles: the model triangles\n",
    "    \"\"\"\n",
    "    \n",
    "    # reformat the points\n",
    "    if len(points.shape) == 1:\n",
    "        points = np.reshape(points, (3,-1), 'F').T\n",
    "    elif len(points.shape) == 2:\n",
    "        if points.shape[0] == 3:\n",
    "            points = points.T\n",
    "    \n",
    "    # reformat the triangles\n",
    "    if len(triangles.shape) == 1:\n",
    "        np.reshape(triangles, (3,-1), 'F').T\n",
    "    elif len(triangles.shape) == 2:\n",
    "        if triangles.shape[0] == 3:\n",
    "            triangles = triangles.T\n",
    "    \n",
    "    return Trimesh(vertices=points, faces=triangles)"
   ]
  },
  {
   "cell_type": "code",
   "execution_count": null,
   "metadata": {},
   "outputs": [],
   "source": []
  }
 ],
 "metadata": {
  "kernelspec": {
   "display_name": "Python 3",
   "language": "python",
   "name": "python3"
  },
  "language_info": {
   "codemirror_mode": {
    "name": "ipython",
    "version": 3
   },
   "file_extension": ".py",
   "mimetype": "text/x-python",
   "name": "python",
   "nbconvert_exporter": "python",
   "pygments_lexer": "ipython3",
   "version": "3.6.5"
  }
 },
 "nbformat": 4,
 "nbformat_minor": 2
}
