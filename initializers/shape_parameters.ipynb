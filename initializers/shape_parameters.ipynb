{
 "cells": [
  {
   "cell_type": "code",
   "execution_count": 2,
   "metadata": {},
   "outputs": [],
   "source": [
    "def initialize_shape_parameters(target_features, mean, pcaBasis, pcaVariance, r, t, s):\n",
    "    \"\"\"\n",
    "    Gets a shape estimation.\n",
    "    \n",
    "    Args:\n",
    "      target_features: the features of the input 2D image [x1, y1, x2, y2, ...]       (2*f,1)\n",
    "      mean: the mean 3D feature points                                                (3*f, 1)\n",
    "      pcaBasis: the pca basis for the feature points                                  (3*f, c)\n",
    "      pcaVariance: the pca variance for the feature points                            (c, 1)\n",
    "      r: the current rotation matrix                                                  (3, 3)\n",
    "      t: the current translation matrix                                               (2, 1)\n",
    "      s: the current scale                                                            (1)\n",
    "      where\n",
    "        f: the number of features\n",
    "        c: the number of components\n",
    "      \n",
    "    Returns:\n",
    "      A shape estimate\n",
    "    \"\"\"\n",
    "    \n",
    "    # get the number of features and components\n",
    "    num_features = int(len(mean)/3)\n",
    "    num_components = pcaBasis.shape[1]\n",
    "\n",
    "    # C and h component data buffers\n",
    "    C = np.zeros((2*num_features, num_components))\n",
    "    h = np.zeros((2*num_features, 1))\n",
    "    \n",
    "    # initialize C\n",
    "    for i in range(num_features):\n",
    "        C[2*i]   = s * (r[0,0] * pcaBasis[3*i,:] + r[0,1] * pcaBasis[3*i+1,:] + r[0,2] * pcaBasis[3*i+2,:])\n",
    "        C[2*i+1] = s * (r[1,0] * pcaBasis[3*i,:] + r[1,1] * pcaBasis[3*i+1,:] + r[1,2] * pcaBasis[3*i+2,:])\n",
    "        h[2*i]   = target_features[2*i] - s * (np.matmul(r[0], mean[3*i:3*i+3]) + t[0,0])\n",
    "        h[2*i+1] = target_features[2*i+1] - s * (np.matmul(r[1], mean[3*i:3*i+3]) + t[1,0])\n",
    "    \n",
    "    # return the result\n",
    "    std = np.sqrt(pcaVariance.reshape(num_components,))   # TODO: pass std not variance to function\n",
    "    bounds = (-3*std, 3*std)\n",
    "    return lsq_linear(C, h.flatten(), bounds=bounds)['x'].reshape((num_components,1)) # TODO, constraint"
   ]
  },
  {
   "cell_type": "code",
   "execution_count": null,
   "metadata": {},
   "outputs": [],
   "source": []
  }
 ],
 "metadata": {
  "kernelspec": {
   "display_name": "Python 3",
   "language": "python",
   "name": "python3"
  },
  "language_info": {
   "codemirror_mode": {
    "name": "ipython",
    "version": 3
   },
   "file_extension": ".py",
   "mimetype": "text/x-python",
   "name": "python",
   "nbconvert_exporter": "python",
   "pygments_lexer": "ipython3",
   "version": "3.6.7"
  }
 },
 "nbformat": 4,
 "nbformat_minor": 2
}
