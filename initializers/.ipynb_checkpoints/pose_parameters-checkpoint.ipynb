{
 "cells": [
  {
   "cell_type": "code",
   "execution_count": 2,
   "metadata": {},
   "outputs": [],
   "source": [
    "import numpy as np"
   ]
  },
  {
   "cell_type": "code",
   "execution_count": 13,
   "metadata": {},
   "outputs": [],
   "source": [
    "def initialize_pose_parameters(target_features, a, mean, pcaBasis):\n",
    "    \"\"\"\n",
    "    Gets a pose estimation.\n",
    "    \n",
    "    Args:\n",
    "      target_features: the 2D target features [x1, y1, x2, y2, ...]       (2*f,1)\n",
    "      a: the current shape parameters                                     (c, 1)\n",
    "      mean: the pca mean                                                  (3*f, 1)\n",
    "      pcaBasis: the pcaBasis                                              (3*f, c)\n",
    "      where\n",
    "        f: the number of features\n",
    "        c: the number of components\n",
    "      \n",
    "    Returns:\n",
    "      The shape parameters as (r, t, s)\n",
    "    \"\"\"\n",
    "    \n",
    "    # get number of features\n",
    "    num_features= 60 # TODO\n",
    "    \n",
    "    # calculate [u1, v2, w3, ..., un, vn, wn]\n",
    "    model_features = mean + np.matmul(pcaBasis, a)\n",
    "    \n",
    "    # A component buffer\n",
    "    A = np.zeros((2*num_features, 8))\n",
    "\n",
    "    # initiaze A\n",
    "    for i in range(num_features):\n",
    "        A[2*i,:]   = [model_features[3*i], model_features[3*i+1], model_features[3*i+2], 1, 0, 0, 0, 0]\n",
    "        A[2*i+1,:] = [0, 0, 0, 0, model_features[3*i], model_features[3*i+1], model_features[3*i+2], 1]\n",
    "    \n",
    "    # solve the linear equation\n",
    "    k = lsq_linear(A, target_features.flatten())['x'].reshape((8,1))\n",
    "    \n",
    "    r1 = np.array([k[0][0], k[1][0], k[2][0]])\n",
    "    r2 = np.array([k[4][0], k[5][0], k[6][0]])\n",
    "    \n",
    "    s = (np.linalg.norm(r1) + np.linalg.norm(r2)) / 2.\n",
    "    t = np.array([k[3][0]/s, k[7][0]/s]).reshape((2,1))\n",
    "    \n",
    "    U,S,V = np.linalg.svd(np.array([r1, r2, np.cross(r1, r2)]))\n",
    "    r = np.matmul(U,V) # TODO, should .T??\n",
    "    if np.linalg.det(r) == -1:\n",
    "        U,S,V = np.linalg.svd(np.array([r1, r2, -1*np.cross(r1, r2)]))\n",
    "        r = np.matmul(U,V) # TODO, should .T??\n",
    "    \n",
    "    return r, t, s"
   ]
  },
  {
   "cell_type": "code",
   "execution_count": null,
   "metadata": {},
   "outputs": [],
   "source": []
  }
 ],
 "metadata": {
  "kernelspec": {
   "display_name": "Python 3",
   "language": "python",
   "name": "python3"
  },
  "language_info": {
   "codemirror_mode": {
    "name": "ipython",
    "version": 3
   },
   "file_extension": ".py",
   "mimetype": "text/x-python",
   "name": "python",
   "nbconvert_exporter": "python",
   "pygments_lexer": "ipython3",
   "version": "3.6.5"
  }
 },
 "nbformat": 4,
 "nbformat_minor": 2
}
