{
 "cells": [
  {
   "cell_type": "code",
   "execution_count": null,
   "metadata": {},
   "outputs": [],
   "source": [
    "%run output_handlers/OutputHandler.ipynb\n",
    "\n",
    "class PygletViewerHandler(OutputHandler):\n",
    "    \n",
    "    def __init__(self, baselModel, sceneViewer):\n",
    "        self.baselModel = baselModel\n",
    "        self.sceneViewer = sceneViewer\n",
    "    \n",
    "    def handle(self, a, r, t, s):\n",
    "        scene = self.baselModel.getMeshScene(a, r, t, s)\n",
    "        scene.set_camera()\n",
    "        self.sceneViewer.scene = scene\n",
    "        self.sceneViewer.on_draw()\n",
    "        print(\"SHOWING\")\n",
    "        time.sleep(1)"
   ]
  }
 ],
 "metadata": {
  "kernelspec": {
   "display_name": "Python 3",
   "language": "python",
   "name": "python3"
  },
  "language_info": {
   "codemirror_mode": {
    "name": "ipython",
    "version": 3
   },
   "file_extension": ".py",
   "mimetype": "text/x-python",
   "name": "python",
   "nbconvert_exporter": "python",
   "pygments_lexer": "ipython3",
   "version": "3.6.7"
  }
 },
 "nbformat": 4,
 "nbformat_minor": 2
}
