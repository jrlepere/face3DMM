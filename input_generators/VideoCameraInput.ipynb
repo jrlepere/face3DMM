{
 "cells": [
  {
   "cell_type": "code",
   "execution_count": null,
   "metadata": {},
   "outputs": [],
   "source": [
    "import cv2\n",
    "%run input_generators/InputGenerator.ipynb\n",
    "%run input_generators/feature_extractors/ImageFeatureExtractor.ipynb\n",
    "\n",
    "class VideoCameraInput(InputGenerator):\n",
    "    \n",
    "    def __init__(self, dlibShapePredictorFilepath, dlibPoints, showVideo=False):\n",
    "        self.imageFeatureExtractor = ImageFeatureExtractor(dlibShapePredictorFilepath, dlibPoints)\n",
    "        self.cap = cv2.VideoCapture(0)\n",
    "        self.showVideo = showVideo\n",
    "        \n",
    "    def getNext(self):\n",
    "        ret, frame = self.cap.read()\n",
    "        if self.showVideo:\n",
    "            cv2.imshow('frame', frame)\n",
    "            cv2.waitKey(1)\n",
    "        return self.imageFeatureExtractor.extractFeatures(frame)\n",
    "    \n",
    "    def hasNext(self):\n",
    "        return True\n",
    "    \n",
    "    def close(self):\n",
    "        self.cap.release()\n",
    "        cv2.destroyAllWindows()\n",
    "    "
   ]
  }
 ],
 "metadata": {
  "kernelspec": {
   "display_name": "Python 3",
   "language": "python",
   "name": "python3"
  },
  "language_info": {
   "codemirror_mode": {
    "name": "ipython",
    "version": 3
   },
   "file_extension": ".py",
   "mimetype": "text/x-python",
   "name": "python",
   "nbconvert_exporter": "python",
   "pygments_lexer": "ipython3",
   "version": "3.6.7"
  }
 },
 "nbformat": 4,
 "nbformat_minor": 2
}
