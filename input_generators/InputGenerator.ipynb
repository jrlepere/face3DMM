{
 "cells": [
  {
   "cell_type": "code",
   "execution_count": null,
   "metadata": {},
   "outputs": [],
   "source": [
    "import abc\n",
    "\n",
    "class InputGenerator(abc.ABC):\n",
    "    \n",
    "    @abc.abstractmethod\n",
    "    def getNext(self):\n",
    "        pass\n",
    "    \n",
    "    @abc.abstractmethod\n",
    "    def hasNext(self):\n",
    "        pass\n",
    "    \n",
    "    @abc.abstractmethod\n",
    "    def close(self):\n",
    "        pass\n",
    "    "
   ]
  }
 ],
 "metadata": {
  "kernelspec": {
   "display_name": "Python 3",
   "language": "python",
   "name": "python3"
  },
  "language_info": {
   "codemirror_mode": {
    "name": "ipython",
    "version": 3
   },
   "file_extension": ".py",
   "mimetype": "text/x-python",
   "name": "python",
   "nbconvert_exporter": "python",
   "pygments_lexer": "ipython3",
   "version": "3.6.7"
  }
 },
 "nbformat": 4,
 "nbformat_minor": 2
}
