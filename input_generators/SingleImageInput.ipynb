{
 "cells": [
  {
   "cell_type": "code",
   "execution_count": null,
   "metadata": {},
   "outputs": [],
   "source": [
    "%run input_generators/InputGenerator.ipynb\n",
    "%run input_generators/feature_extractors/ImageFeatureExtractor.ipynb\n",
    "\n",
    "class SingleImageInput(InputGenerator):\n",
    "    \n",
    "    def __init__(self, imageFilepath, dlibShapePredictorFilepath, dlibPoints):\n",
    "        self.imageFeatureExtractor = ImageFeatureExtractor(dlibShapePredictorFilepath, dlibPoints)\n",
    "        self.images = [cv2.imread(imageFilepath)]\n",
    "        \n",
    "    def getNext(self):\n",
    "        return self.imageFeatureExtractor.extractFeatures(self.images.pop())\n",
    "    \n",
    "    def hasNext(self):\n",
    "        return len(self.images) > 0\n",
    "    \n",
    "    def close(self):\n",
    "        return True\n",
    "    "
   ]
  }
 ],
 "metadata": {
  "kernelspec": {
   "display_name": "Python 3",
   "language": "python",
   "name": "python3"
  },
  "language_info": {
   "codemirror_mode": {
    "name": "ipython",
    "version": 3
   },
   "file_extension": ".py",
   "mimetype": "text/x-python",
   "name": "python",
   "nbconvert_exporter": "python",
   "pygments_lexer": "ipython3",
   "version": "3.6.7"
  }
 },
 "nbformat": 4,
 "nbformat_minor": 2
}
