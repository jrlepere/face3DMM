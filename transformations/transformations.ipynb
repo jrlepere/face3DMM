{
 "cells": [
  {
   "cell_type": "code",
   "execution_count": null,
   "metadata": {},
   "outputs": [],
   "source": [
    "import numpy as np"
   ]
  },
  {
   "cell_type": "code",
   "execution_count": 2,
   "metadata": {},
   "outputs": [],
   "source": [
    "def project_2d(mean, pcaBasis, a, r, t, s):\n",
    "    \n",
    "    return sop(model_point_combination(mean, pcaBasis, a), r, t, s)\n",
    "\n",
    "def sop(p, r, t, s):\n",
    "    \"\"\"\n",
    "    Gets a 2D transformation of each feature point.\n",
    "\n",
    "    Args:\n",
    "      p: the 3D model points          (3, n)\n",
    "      r: the rotation matrix          (3, 3)\n",
    "      t: the translation matrix       (2, 1)\n",
    "      s: the scale matrix             (1)\n",
    "      where\n",
    "        f: the number of features\n",
    "        c: the number of components\n",
    "\n",
    "    Returns:\n",
    "      A 2D projection for each feature point.  (2, n)\n",
    "    \"\"\"\n",
    "\n",
    "    # SOP, 3D to 2D projection\n",
    "    points = s * np.matmul(np.array([[1.,0.,0.],[0.,1.,0.]]), np.matmul(r, p)) + s * np.repeat(t,p.shape[1],axis=-1)\n",
    "\n",
    "    # JAKEEEEEEEEE translation repeat may not be right!!!!\n",
    "\n",
    "    # return the transformed points\n",
    "    return points\n",
    "\n",
    "\n",
    "def model_point_combination(mean, pcaBasis, a):\n",
    "    \"\"\"\n",
    "    Combines the model components into a single model.\n",
    "\n",
    "    Args:\n",
    "      a: the pca weights              (c, 1)\n",
    "\n",
    "    Returns:\n",
    "      The combined 3D model points    (3, n)\n",
    "    \"\"\"\n",
    "    \n",
    "    #mean = mean.reshape(mean.shape+(1,))\n",
    "    # get number of points\n",
    "    num_points = int(len(mean)/3)\n",
    "    \n",
    "    # calculate [u1, v2, w3, ..., un, vn, wn]\n",
    "    points = mean + np.matmul(pcaBasis, a)\n",
    "\n",
    "    # format the points into (3, n)\n",
    "    return np.reshape(points, (3, num_points), order='F')"
   ]
  },
  {
   "cell_type": "code",
   "execution_count": null,
   "metadata": {},
   "outputs": [],
   "source": []
  }
 ],
 "metadata": {
  "kernelspec": {
   "display_name": "Python 3",
   "language": "python",
   "name": "python3"
  },
  "language_info": {
   "codemirror_mode": {
    "name": "ipython",
    "version": 3
   },
   "file_extension": ".py",
   "mimetype": "text/x-python",
   "name": "python",
   "nbconvert_exporter": "python",
   "pygments_lexer": "ipython3",
   "version": "3.6.7"
  }
 },
 "nbformat": 4,
 "nbformat_minor": 2
}
