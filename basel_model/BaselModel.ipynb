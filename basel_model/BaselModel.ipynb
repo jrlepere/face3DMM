{
 "cells": [
  {
   "cell_type": "code",
   "execution_count": 4,
   "metadata": {},
   "outputs": [],
   "source": [
    "class BaselModel:\n",
    "    \n",
    "    def __init__(self, filepath):\n",
    "        \n",
    "        # load the basel model\n",
    "        self.model = h5py.File(filepath, 'r')\n",
    "        \n",
    "        # load all of the shape and expression data\n",
    "        self.shapeMean = np.array(self.model['shape']['model']['mean']) + np.array(self.model['expression']['model']['mean'])\n",
    "        self.shapePCABasis = np.concatenate(\n",
    "            [np.array(self.model['shape']['model']['pcaBasis']), np.array(self.model['expression']['model']['pcaBasis'])],\n",
    "            axis=-1\n",
    "        )\n",
    "        self.shapePCAVariance = np.concatenate(\n",
    "            [np.array(self.model['shape']['model']['pcaVariance']), np.array(self.model['expression']['model']['pcaVariance'])],\n",
    "            axis=-1\n",
    "        )\n",
    "        self.shapeMean = self.shapeMean.reshape(self.shapeMean.shape+(1,))\n",
    "        self.shapePCAVariance = self.shapePCAVariance.reshape(self.shapePCAVariance.shape+(1,))\n",
    "        \n",
    "        \n",
    "    def getShapeMean(self, pointIndexes=None):\n",
    "        return self.shapeMean if pointIndexes is None else self.shapeMean[pointIndexes]\n",
    "    \n",
    "    def getShapePCABasis(self, pointIndexes=None):\n",
    "        return self.shapePCABasis if pointIndexes is None else self.shapePCABasis[pointIndexes]\n",
    "    \n",
    "    def getShapePCAVariance(self, pointIndexes= None):\n",
    "        return self.shapePCAVariance if pointIndexes is None else self.shapePCAVariance[pointIndexes]\n",
    "    \n",
    "    def getModelMeshTriangles(self):\n",
    "        return np.array(self.model['shape']['representer']['cells'])"
   ]
  },
  {
   "cell_type": "code",
   "execution_count": null,
   "metadata": {},
   "outputs": [],
   "source": []
  }
 ],
 "metadata": {
  "kernelspec": {
   "display_name": "Python 3",
   "language": "python",
   "name": "python3"
  },
  "language_info": {
   "codemirror_mode": {
    "name": "ipython",
    "version": 3
   },
   "file_extension": ".py",
   "mimetype": "text/x-python",
   "name": "python",
   "nbconvert_exporter": "python",
   "pygments_lexer": "ipython3",
   "version": "3.6.7"
  }
 },
 "nbformat": 4,
 "nbformat_minor": 2
}
