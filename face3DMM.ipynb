{
 "cells": [
  {
   "cell_type": "code",
   "execution_count": 1,
   "metadata": {},
   "outputs": [],
   "source": [
    "import numpy as np\n",
    "import h5py\n",
    "import trimesh\n",
    "import matplotlib.pyplot as plt\n",
    "from random import random, uniform\n",
    "import dlib\n",
    "from scipy.optimize import lsq_linear"
   ]
  },
  {
   "cell_type": "code",
   "execution_count": 48,
   "metadata": {},
   "outputs": [
    {
     "name": "stderr",
     "output_type": "stream",
     "text": [
      "ERROR:root:File `'initializers/pose_parameters.ipynb.py'` not found.\n",
      "ERROR:root:File `'initializers/shape_parameters.ipynb.py'` not found.\n"
     ]
    }
   ],
   "source": [
    "%run features/basel_features/index_loader.ipynb\n",
    "%run features/image_features/feature_extractor.ipynb\n",
    "%run visualizers/model_mesh.ipynb\n",
    "%run transformations/transformations.ipynb\n",
    "%run basel_model/BaselModel.ipynb"
   ]
  },
  {
   "cell_type": "code",
   "execution_count": 69,
   "metadata": {},
   "outputs": [],
   "source": [
    "class Face3DMM:\n",
    "    \"\"\"\n",
    "    Face 3D Model Mesh construction from 2D image.\n",
    "    \"\"\"\n",
    "    \n",
    "    def __init__(self, basel_model_filepath,\n",
    "                 basel_feature_points_path,\n",
    "                 dlib_shape_predictor_filepath):\n",
    "        \"\"\"\n",
    "        Initialize the Face3DMM constructor.\n",
    "        \n",
    "        Args:\n",
    "          basel_model_filepath: the path to the basel model\n",
    "          basel_feature_points_path: the path to the csv file containing the dlib to model points mapping\n",
    "          dlib_shape_predictor_filepath: the path to the dlib predictor data model\n",
    "        \"\"\"\n",
    "        \n",
    "        # store dlib predictor path\n",
    "        self.dlib_shape_predictor_filepath = dlib_shape_predictor_filepath\n",
    "        \n",
    "        self.baselModel = BaselModel(basel_model_filepath)\n",
    "        \n",
    "        # get indexes of model feature points and associated dlib feature point numbers, indexed at 1\n",
    "        feature_point_indexes, self.dlib_points = get_feature_point_indexes(basel_feature_points_path)\n",
    "        \n",
    "        # extract only the feature points\n",
    "        self.shape_mean_features = self.baselModel.getShapeMean(pointIndexes=feature_point_indexes)\n",
    "        self.shape_pcaBasis_features = self.baselModel.getShapePCABasis(pointIndexes=feature_point_indexes)\n",
    "        self.shape_pcaVariance = self.baselModel.getShapePCAVariance()\n",
    "        \n",
    "        # get the triangles for the model mesh\n",
    "        self.triangles = self.baselModel.getModelMeshTriangles()\n",
    "        \n",
    "        # the number of points, features and components\n",
    "        self.num_points = int(len(self.shape_mean_features)/3)\n",
    "        self.num_features = int(len(feature_point_indexes)/3)\n",
    "        self.num_components = len(self.shape_pcaVariance)\n",
    "    \n",
    "    def get_3DMM(self, image_path):\n",
    "        \n",
    "        # extract the dlib features\n",
    "        dlib_features = extract_features(image_path, self.dlib_shape_predictor_filepath, self.dlib_points)\n",
    "        \n",
    "        # find optimal parameters\n",
    "        #a, r, t, s = self.optimize(dlib_features, i=0, j=5000)\n",
    "        %run optimizers/GradientDescent.ipynb\n",
    "        %run optimizers/initializers/EstimationRefinementInitializer.ipynb\n",
    "        optimizer = GradientDescent(\n",
    "                mean=self.shape_mean_features,\n",
    "                pcaBasis=self.shape_pcaBasis_features,\n",
    "                pcaVariance=self.shape_pcaVariance,\n",
    "                numIterations=5000,\n",
    "                initializer=EstimationRefinementInitializer(numIterations=10))\n",
    "        %run optimizers/inputs/SingleImageInput.ipynb\n",
    "        a, r, t, s = optimizer.optimize(SingleImageInput(\n",
    "                image_path, self.dlib_shape_predictor_filepath, self.dlib_points), 1)\n",
    "        \n",
    "        # construct and return the model mesh as a trimesh object\n",
    "        return self.get_model_mesh(a)\n",
    "    \n",
    "    def get_projection_points(self, a, r=np.array([[1,0,0],[0,1,0],[0,0,1]]), t=np.array([0,0]).reshape(2,1), s=1., mode='all'):\n",
    "        \"\"\"\n",
    "        Gets the 2D projections from the pca model weights.\n",
    "        \n",
    "        Args:\n",
    "          a: the pca model weights        (c, 1)\n",
    "          r: the rotation matrix          (3, 3)\n",
    "          t: the translation matrix       (2, 1)\n",
    "          s: the scale matrix             (1)\n",
    "          mode: 'all' or 'features'\n",
    "          where\n",
    "            f: the number of features\n",
    "            c: the number of components\n",
    "        \n",
    "        Returns:\n",
    "          The 2D point projections         (2, n)\n",
    "        \"\"\"\n",
    "        \n",
    "        if mode.lower() == 'all':\n",
    "            return project_2d(self.shape_mean, self.shape_pcaBasis, a, r, t, s)\n",
    "        elif mode.lower() == 'features':\n",
    "            return project_2d(self.shape_mean_features, self.shape_pcaBasis_features, a, r, t, s)\n",
    "        else:\n",
    "            raise Exception('model must be all or features')\n",
    "            \n",
    "    \n",
    "    def get_model_mesh(self, a):\n",
    "        \"\"\"\n",
    "        Gets a Trimesh object for the model mesh from the pca component weights\n",
    "        \n",
    "        Args:\n",
    "          a: the pca model weights        (c, 1)\n",
    "          where\n",
    "            c: the number of components\n",
    "        \n",
    "        Returns:\n",
    "          A Trimesh object for the model mesh\n",
    "        \"\"\"\n",
    "        \n",
    "        return get_model_mesh(model_point_combination(self.baselModel.getShapeMean(), self.baselModel.getShapePCABasis(), a), self.triangles)\n",
    "    "
   ]
  },
  {
   "cell_type": "code",
   "execution_count": null,
   "metadata": {
    "scrolled": true
   },
   "outputs": [
    {
     "name": "stderr",
     "output_type": "stream",
     "text": [
      "ERROR:root:File `'inputs/SingleImageInput.ipynb.py'` not found.\n"
     ]
    }
   ],
   "source": [
    "x = Face3DMM(basel_model_filepath='./model2017-1_bfm_nomouth.h5',\n",
    "        basel_feature_points_path='./feature_points.csv',\n",
    "        dlib_shape_predictor_filepath='./shape_predictor_68_face_landmarks.dat')\n",
    "mesh = x.get_3DMM('./test_images/test_image_2.jpeg')\n",
    "mesh.show()"
   ]
  },
  {
   "cell_type": "code",
   "execution_count": null,
   "metadata": {},
   "outputs": [],
   "source": [
    "points = x.get_projection_points(np.array([0 for _ in range(x.num_components)]).reshape((x.num_components, 1)), mode='features')\n",
    "fig, ax = plt.subplots()\n",
    "ax.scatter(points[0,:], points[1,:])\n",
    "\n",
    "for i in range(points.shape[-1]):\n",
    "    ax.annotate(i, (points[0,:][i], points[1,:][i]))"
   ]
  },
  {
   "cell_type": "code",
   "execution_count": null,
   "metadata": {},
   "outputs": [],
   "source": []
  }
 ],
 "metadata": {
  "kernelspec": {
   "display_name": "Python 3",
   "language": "python",
   "name": "python3"
  },
  "language_info": {
   "codemirror_mode": {
    "name": "ipython",
    "version": 3
   },
   "file_extension": ".py",
   "mimetype": "text/x-python",
   "name": "python",
   "nbconvert_exporter": "python",
   "pygments_lexer": "ipython3",
   "version": "3.6.7"
  }
 },
 "nbformat": 4,
 "nbformat_minor": 2
}
