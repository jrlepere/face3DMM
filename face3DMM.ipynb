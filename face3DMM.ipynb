{
 "cells": [
  {
   "cell_type": "code",
   "execution_count": 52,
   "metadata": {},
   "outputs": [],
   "source": [
    "import numpy as np\n",
    "import h5py\n",
    "import trimesh\n",
    "import matplotlib.pyplot as plt\n",
    "from random import random, uniform\n",
    "import dlib\n",
    "from scipy.optimize import lsq_linear"
   ]
  },
  {
   "cell_type": "code",
   "execution_count": 73,
   "metadata": {},
   "outputs": [],
   "source": [
    "%run optimizers/gradient_descent.ipynb\n",
    "%run initializers/pose_parameters.ipynb\n",
    "%run initializers/shape_parameters.ipynb\n",
    "%run features/basel_features/index_loader.ipynb\n",
    "%run features/image_features/feature_extractor.ipynb\n",
    "%run visualizers/model_mesh.ipynb\n",
    "%run transformations/transformations.ipynb"
   ]
  },
  {
   "cell_type": "code",
   "execution_count": 74,
   "metadata": {},
   "outputs": [],
   "source": [
    "class Face3DMM:\n",
    "    \"\"\"\n",
    "    Optimizer definition for finding the optimal PCA weights to construct a 3D model from 2D image.\n",
    "    \"\"\"\n",
    "    \n",
    "    def __init__(self, basel_model_filepath):\n",
    "        \"\"\"\n",
    "        \"\"\"\n",
    "        \n",
    "        # load the basel model\n",
    "        model = h5py.File(basel_model_filepath, 'r')\n",
    "        \n",
    "        # load all of the shape and expression data\n",
    "        self.shape_mean = np.array(model['shape']['model']['mean']) + np.array(model['expression']['model']['mean'])\n",
    "        #self.shape_pcaBasis = np.array(model['shape']['model']['pcaBasis'])\n",
    "        #self.shape_pcaVariance = np.array(model['shape']['model']['pcaVariance'])\n",
    "        self.shape_pcaBasis = np.concatenate(\n",
    "            [np.array(model['shape']['model']['pcaBasis']), np.array(model['expression']['model']['pcaBasis'])],\n",
    "            axis=-1\n",
    "        )\n",
    "        self.shape_pcaVariance = np.concatenate(\n",
    "            [np.array(model['shape']['model']['pcaVariance']), np.array(model['expression']['model']['pcaVariance'])],\n",
    "            axis=-1\n",
    "        )\n",
    "        \n",
    "        # get indexes of feature points\n",
    "        feature_point_indexes = get_feature_point_indexes()\n",
    "        \n",
    "        # extract only the feature points\n",
    "        self.shape_mean_features = self.shape_mean[feature_point_indexes]\n",
    "        self.shape_pcaBasis_features = self.shape_pcaBasis[feature_point_indexes]\n",
    "        \n",
    "        # get the triangles for the model mesh\n",
    "        self.triangles = np.array(model['shape']['representer']['cells'])\n",
    "        \n",
    "        # the number of points, features and components\n",
    "        self.num_points = int(len(self.shape_mean)/3)\n",
    "        self.num_features = int(len(feature_point_indexes)/3)\n",
    "        self.num_components = len(self.shape_pcaVariance)\n",
    "        \n",
    "        # reshape the components for matrix operations\n",
    "        self.shape_mean = self.shape_mean.reshape(self.shape_mean.shape+(1,))\n",
    "        self.shape_mean_features = self.shape_mean_features.reshape(self.shape_mean_features.shape+(1,))\n",
    "        self.shape_pcaVariance = self.shape_pcaVariance.reshape(self.shape_pcaVariance.shape+(1,))\n",
    "    \n",
    "    \n",
    "    def get_3DMM(self, face_image):\n",
    "        \"\"\"\n",
    "        Gets a 3DMM for an image of a face.\n",
    "        \n",
    "        Args:\n",
    "          face_image: the image of the face\n",
    "        \n",
    "        Returns:\n",
    "          A 3DMM for the face in the 2D image\n",
    "        \"\"\"\n",
    "        \n",
    "        # TODO\n",
    "        \n",
    "        return None\n",
    "    \n",
    "    \n",
    "    def optimize(self, target_features, i=25, j=1000):\n",
    "        \"\"\"\n",
    "        Gets optimal weights for a 3DMM reconstruction from the 2D input features.\n",
    "        \n",
    "        Args:\n",
    "          target_features: the 2D target features [x1, y1, x2, y2, ...]            (2*f,1)\n",
    "          i: the number of additional iterations for pose and shape estimations\n",
    "          j: the number of optimizer iterations\n",
    "          where\n",
    "            f: the number of features\n",
    "        \n",
    "        Returns:\n",
    "          Optimal weights for a 3DMM face reconstruction and SOP parameters (a, r, t, s)\n",
    "        \"\"\"\n",
    "        \n",
    "        # initial pose and shape parameters\n",
    "        ri, ti, si = initialize_pose_parameters(target_features, np.zeros((self.num_components,1)), self.shape_mean_features, self.shape_pcaBasis_features)\n",
    "        ai = initialize_shape_parameters(target_features, self.shape_mean_features, self.shape_pcaBasis_features, self.shape_pcaVariance, ri, ti, si)\n",
    "        for _ in range(i):\n",
    "            ri, ti, si = initialize_pose_parameters(target_features, ai, self.shape_mean_features, self.shape_pcaBasis_features)\n",
    "            ai = initialize_shape_parameters(target_features, self.shape_mean_features, self.shape_pcaBasis_features, self.shape_pcaVariance, ri, ti, si)\n",
    "        \n",
    "        # return the result of the optimization\n",
    "        return gradient_descent(\n",
    "            target_features,\n",
    "            self.shape_mean_features,\n",
    "            self.shape_pcaBasis_features,\n",
    "            self.shape_pcaVariance,\n",
    "            ai,\n",
    "            ri,\n",
    "            ti,\n",
    "            si,\n",
    "            optimizer='adam',\n",
    "            num_iterations=j)\n",
    "    \n",
    "    \n",
    "    def get_projection_points(self, a, r=np.array([[1,0,0],[0,1,0],[0,0,1]]), t=np.array([0,0]).reshape(2,1), s=1., mode='all'):\n",
    "        \"\"\"\n",
    "        Gets the 2D projections from the pca model weights.\n",
    "        \n",
    "        Args:\n",
    "          a: the pca model weights        (c, 1)\n",
    "          r: the rotation matrix          (3, 3)\n",
    "          t: the translation matrix       (2, 1)\n",
    "          s: the scale matrix             (1)\n",
    "          mode: 'all' or 'features'\n",
    "          where\n",
    "            f: the number of features\n",
    "            c: the number of components\n",
    "        \n",
    "        Returns:\n",
    "          The 2D point projections         (2, n)\n",
    "        \"\"\"\n",
    "        \n",
    "        if mode.lower() == 'all':\n",
    "            return project_2d(self.shape_mean, self.shape_pcaBasis, a, r, t, s)\n",
    "        elif mode.lower() == 'features':\n",
    "            return project_2d(self.shape_mean_features, self.shape_pcaBasis_features, a, r, t, s)\n",
    "        else:\n",
    "            raise Exception('model must be all or features')\n",
    "            \n",
    "    \n",
    "    def get_model_mesh(self, a):\n",
    "        \"\"\"\n",
    "        Gets a Trimesh object for the model mesh from the pca component weights\n",
    "        \n",
    "        Args:\n",
    "          a: the pca model weights        (c, 1)\n",
    "          where\n",
    "            c: the number of components\n",
    "        \n",
    "        Returns:\n",
    "          A Trimesh object for the model mesh\n",
    "        \"\"\"\n",
    "        \n",
    "        return get_model_mesh(model_point_combination(self.shape_mean, self.shape_pcaBasis, a), self.triangles)\n",
    "    "
   ]
  },
  {
   "cell_type": "code",
   "execution_count": 75,
   "metadata": {
    "scrolled": true
   },
   "outputs": [
    {
     "ename": "ValueError",
     "evalue": "Inconsistent shapes between `A` and `b`.",
     "output_type": "error",
     "traceback": [
      "\u001b[0;31m---------------------------------------------------------------------------\u001b[0m",
      "\u001b[0;31mValueError\u001b[0m                                Traceback (most recent call last)",
      "\u001b[0;32m<ipython-input-75-e0fbe971e234>\u001b[0m in \u001b[0;36m<module>\u001b[0;34m()\u001b[0m\n\u001b[1;32m      1\u001b[0m \u001b[0mx\u001b[0m \u001b[0;34m=\u001b[0m \u001b[0mFace3DMM\u001b[0m\u001b[0;34m(\u001b[0m\u001b[0mbasel_model_filepath\u001b[0m\u001b[0;34m=\u001b[0m\u001b[0;34m'../basel/model2017-1_bfm_nomouth.h5'\u001b[0m\u001b[0;34m)\u001b[0m\u001b[0;34m\u001b[0m\u001b[0m\n\u001b[1;32m      2\u001b[0m \u001b[0mfe\u001b[0m \u001b[0;34m=\u001b[0m \u001b[0mFeatureExtractor\u001b[0m\u001b[0;34m(\u001b[0m\u001b[0;34m'./features/image_features/dlib/shape_predictor_68_face_landmarks.dat-1'\u001b[0m\u001b[0;34m)\u001b[0m\u001b[0;34m\u001b[0m\u001b[0m\n\u001b[0;32m----> 3\u001b[0;31m \u001b[0ma\u001b[0m\u001b[0;34m,\u001b[0m \u001b[0mr\u001b[0m\u001b[0;34m,\u001b[0m \u001b[0mt\u001b[0m\u001b[0;34m,\u001b[0m \u001b[0ms\u001b[0m \u001b[0;34m=\u001b[0m \u001b[0mx\u001b[0m\u001b[0;34m.\u001b[0m\u001b[0moptimize\u001b[0m\u001b[0;34m(\u001b[0m\u001b[0mfe\u001b[0m\u001b[0;34m.\u001b[0m\u001b[0mextract_features\u001b[0m\u001b[0;34m(\u001b[0m\u001b[0;34m'./test_images/test_image_2.jpeg'\u001b[0m\u001b[0;34m)\u001b[0m\u001b[0;34m,\u001b[0m \u001b[0mi\u001b[0m\u001b[0;34m=\u001b[0m\u001b[0;36m10\u001b[0m\u001b[0;34m,\u001b[0m \u001b[0mj\u001b[0m\u001b[0;34m=\u001b[0m\u001b[0;36m1000\u001b[0m\u001b[0;34m)\u001b[0m\u001b[0;34m\u001b[0m\u001b[0m\n\u001b[0m\u001b[1;32m      4\u001b[0m \u001b[0mmesh\u001b[0m \u001b[0;34m=\u001b[0m \u001b[0mx\u001b[0m\u001b[0;34m.\u001b[0m\u001b[0mget_model_mesh\u001b[0m\u001b[0;34m(\u001b[0m\u001b[0ma\u001b[0m\u001b[0;34m)\u001b[0m\u001b[0;34m\u001b[0m\u001b[0m\n\u001b[1;32m      5\u001b[0m \u001b[0mmesh\u001b[0m\u001b[0;34m.\u001b[0m\u001b[0mshow\u001b[0m\u001b[0;34m(\u001b[0m\u001b[0;34m)\u001b[0m\u001b[0;34m\u001b[0m\u001b[0m\n",
      "\u001b[0;32m<ipython-input-74-302cec2cd230>\u001b[0m in \u001b[0;36moptimize\u001b[0;34m(self, target_features, i, j)\u001b[0m\n\u001b[1;32m     77\u001b[0m \u001b[0;34m\u001b[0m\u001b[0m\n\u001b[1;32m     78\u001b[0m         \u001b[0;31m# initial pose and shape parameters\u001b[0m\u001b[0;34m\u001b[0m\u001b[0;34m\u001b[0m\u001b[0m\n\u001b[0;32m---> 79\u001b[0;31m         \u001b[0mri\u001b[0m\u001b[0;34m,\u001b[0m \u001b[0mti\u001b[0m\u001b[0;34m,\u001b[0m \u001b[0msi\u001b[0m \u001b[0;34m=\u001b[0m \u001b[0minitialize_pose_parameters\u001b[0m\u001b[0;34m(\u001b[0m\u001b[0mtarget_features\u001b[0m\u001b[0;34m,\u001b[0m \u001b[0mnp\u001b[0m\u001b[0;34m.\u001b[0m\u001b[0mzeros\u001b[0m\u001b[0;34m(\u001b[0m\u001b[0;34m(\u001b[0m\u001b[0mself\u001b[0m\u001b[0;34m.\u001b[0m\u001b[0mnum_components\u001b[0m\u001b[0;34m,\u001b[0m\u001b[0;36m1\u001b[0m\u001b[0;34m)\u001b[0m\u001b[0;34m)\u001b[0m\u001b[0;34m,\u001b[0m \u001b[0mself\u001b[0m\u001b[0;34m.\u001b[0m\u001b[0mshape_mean_features\u001b[0m\u001b[0;34m,\u001b[0m \u001b[0mself\u001b[0m\u001b[0;34m.\u001b[0m\u001b[0mshape_pcaBasis_features\u001b[0m\u001b[0;34m)\u001b[0m\u001b[0;34m\u001b[0m\u001b[0m\n\u001b[0m\u001b[1;32m     80\u001b[0m         \u001b[0mai\u001b[0m \u001b[0;34m=\u001b[0m \u001b[0minitialize_shape_parameters\u001b[0m\u001b[0;34m(\u001b[0m\u001b[0mtarget_features\u001b[0m\u001b[0;34m,\u001b[0m \u001b[0mself\u001b[0m\u001b[0;34m.\u001b[0m\u001b[0mshape_mean_features\u001b[0m\u001b[0;34m,\u001b[0m \u001b[0mself\u001b[0m\u001b[0;34m.\u001b[0m\u001b[0mshape_pcaBasis_features\u001b[0m\u001b[0;34m,\u001b[0m \u001b[0mself\u001b[0m\u001b[0;34m.\u001b[0m\u001b[0mshape_pcaVariance\u001b[0m\u001b[0;34m,\u001b[0m \u001b[0mri\u001b[0m\u001b[0;34m,\u001b[0m \u001b[0mti\u001b[0m\u001b[0;34m,\u001b[0m \u001b[0msi\u001b[0m\u001b[0;34m)\u001b[0m\u001b[0;34m\u001b[0m\u001b[0m\n\u001b[1;32m     81\u001b[0m         \u001b[0;32mfor\u001b[0m \u001b[0m_\u001b[0m \u001b[0;32min\u001b[0m \u001b[0mrange\u001b[0m\u001b[0;34m(\u001b[0m\u001b[0mi\u001b[0m\u001b[0;34m)\u001b[0m\u001b[0;34m:\u001b[0m\u001b[0;34m\u001b[0m\u001b[0m\n",
      "\u001b[0;32m<ipython-input-73-cdc170320719>\u001b[0m in \u001b[0;36minitialize_pose_parameters\u001b[0;34m(target_features, a, mean, pcaBasis)\u001b[0m\n\u001b[1;32m     31\u001b[0m \u001b[0;34m\u001b[0m\u001b[0m\n\u001b[1;32m     32\u001b[0m     \u001b[0;31m# solve the linear equation\u001b[0m\u001b[0;34m\u001b[0m\u001b[0;34m\u001b[0m\u001b[0m\n\u001b[0;32m---> 33\u001b[0;31m     \u001b[0mk\u001b[0m \u001b[0;34m=\u001b[0m \u001b[0mlsq_linear\u001b[0m\u001b[0;34m(\u001b[0m\u001b[0mA\u001b[0m\u001b[0;34m,\u001b[0m \u001b[0mtarget_features\u001b[0m\u001b[0;34m,\u001b[0m \u001b[0mlsq_solver\u001b[0m\u001b[0;34m=\u001b[0m\u001b[0;34m'exact'\u001b[0m\u001b[0;34m)\u001b[0m\u001b[0;34m[\u001b[0m\u001b[0;34m'x'\u001b[0m\u001b[0;34m]\u001b[0m\u001b[0;34m.\u001b[0m\u001b[0mreshape\u001b[0m\u001b[0;34m(\u001b[0m\u001b[0;34m(\u001b[0m\u001b[0;36m8\u001b[0m\u001b[0;34m,\u001b[0m\u001b[0;36m1\u001b[0m\u001b[0;34m)\u001b[0m\u001b[0;34m)\u001b[0m\u001b[0;34m\u001b[0m\u001b[0m\n\u001b[0m\u001b[1;32m     34\u001b[0m \u001b[0;34m\u001b[0m\u001b[0m\n\u001b[1;32m     35\u001b[0m     \u001b[0mr1\u001b[0m \u001b[0;34m=\u001b[0m \u001b[0mnp\u001b[0m\u001b[0;34m.\u001b[0m\u001b[0marray\u001b[0m\u001b[0;34m(\u001b[0m\u001b[0;34m[\u001b[0m\u001b[0mk\u001b[0m\u001b[0;34m[\u001b[0m\u001b[0;36m0\u001b[0m\u001b[0;34m]\u001b[0m\u001b[0;34m[\u001b[0m\u001b[0;36m0\u001b[0m\u001b[0;34m]\u001b[0m\u001b[0;34m,\u001b[0m \u001b[0mk\u001b[0m\u001b[0;34m[\u001b[0m\u001b[0;36m1\u001b[0m\u001b[0;34m]\u001b[0m\u001b[0;34m[\u001b[0m\u001b[0;36m0\u001b[0m\u001b[0;34m]\u001b[0m\u001b[0;34m,\u001b[0m \u001b[0mk\u001b[0m\u001b[0;34m[\u001b[0m\u001b[0;36m2\u001b[0m\u001b[0;34m]\u001b[0m\u001b[0;34m[\u001b[0m\u001b[0;36m0\u001b[0m\u001b[0;34m]\u001b[0m\u001b[0;34m]\u001b[0m\u001b[0;34m)\u001b[0m\u001b[0;34m\u001b[0m\u001b[0m\n",
      "\u001b[0;32m~/anaconda3/lib/python3.6/site-packages/scipy/optimize/_lsq/lsq_linear.py\u001b[0m in \u001b[0;36mlsq_linear\u001b[0;34m(A, b, bounds, method, tol, lsq_solver, lsmr_tol, max_iter, verbose)\u001b[0m\n\u001b[1;32m    264\u001b[0m \u001b[0;34m\u001b[0m\u001b[0m\n\u001b[1;32m    265\u001b[0m     \u001b[0;32mif\u001b[0m \u001b[0mb\u001b[0m\u001b[0;34m.\u001b[0m\u001b[0msize\u001b[0m \u001b[0;34m!=\u001b[0m \u001b[0mm\u001b[0m\u001b[0;34m:\u001b[0m\u001b[0;34m\u001b[0m\u001b[0m\n\u001b[0;32m--> 266\u001b[0;31m         \u001b[0;32mraise\u001b[0m \u001b[0mValueError\u001b[0m\u001b[0;34m(\u001b[0m\u001b[0;34m\"Inconsistent shapes between `A` and `b`.\"\u001b[0m\u001b[0;34m)\u001b[0m\u001b[0;34m\u001b[0m\u001b[0m\n\u001b[0m\u001b[1;32m    267\u001b[0m \u001b[0;34m\u001b[0m\u001b[0m\n\u001b[1;32m    268\u001b[0m     \u001b[0mlb\u001b[0m\u001b[0;34m,\u001b[0m \u001b[0mub\u001b[0m \u001b[0;34m=\u001b[0m \u001b[0mprepare_bounds\u001b[0m\u001b[0;34m(\u001b[0m\u001b[0mbounds\u001b[0m\u001b[0;34m,\u001b[0m \u001b[0mn\u001b[0m\u001b[0;34m)\u001b[0m\u001b[0;34m\u001b[0m\u001b[0m\n",
      "\u001b[0;31mValueError\u001b[0m: Inconsistent shapes between `A` and `b`."
     ]
    }
   ],
   "source": [
    "x = Face3DMM(basel_model_filepath='../basel/model2017-1_bfm_nomouth.h5')\n",
    "fe = FeatureExtractor('./features/image_features/dlib/shape_predictor_68_face_landmarks.dat-1')\n",
    "a, r, t, s = x.optimize(fe.extract_features('./test_images/test_image_2.jpeg'), i=10, j=1000)\n",
    "mesh = x.get_model_mesh(a)\n",
    "mesh.show()"
   ]
  },
  {
   "cell_type": "code",
   "execution_count": 76,
   "metadata": {},
   "outputs": [],
   "source": [
    "points = x.get_projection_points(np.array([0 for _ in range(x.num_components)]).reshape((x.num_components, 1)), mode='features')"
   ]
  },
  {
   "cell_type": "code",
   "execution_count": 77,
   "metadata": {},
   "outputs": [
    {
     "ename": "IndexError",
     "evalue": "index 22 is out of bounds for axis 0 with size 22",
     "output_type": "error",
     "traceback": [
      "\u001b[0;31m---------------------------------------------------------------------------\u001b[0m",
      "\u001b[0;31mIndexError\u001b[0m                                Traceback (most recent call last)",
      "\u001b[0;32m<ipython-input-77-e69f23048b5d>\u001b[0m in \u001b[0;36m<module>\u001b[0;34m()\u001b[0m\n\u001b[1;32m      3\u001b[0m \u001b[0;34m\u001b[0m\u001b[0m\n\u001b[1;32m      4\u001b[0m \u001b[0;32mfor\u001b[0m \u001b[0mi\u001b[0m \u001b[0;32min\u001b[0m \u001b[0mrange\u001b[0m\u001b[0;34m(\u001b[0m\u001b[0;36m68\u001b[0m\u001b[0;34m)\u001b[0m\u001b[0;34m:\u001b[0m\u001b[0;34m\u001b[0m\u001b[0m\n\u001b[0;32m----> 5\u001b[0;31m     \u001b[0max\u001b[0m\u001b[0;34m.\u001b[0m\u001b[0mannotate\u001b[0m\u001b[0;34m(\u001b[0m\u001b[0mi\u001b[0m\u001b[0;34m,\u001b[0m \u001b[0;34m(\u001b[0m\u001b[0mpoints\u001b[0m\u001b[0;34m[\u001b[0m\u001b[0;36m0\u001b[0m\u001b[0;34m,\u001b[0m\u001b[0;34m:\u001b[0m\u001b[0;34m]\u001b[0m\u001b[0;34m[\u001b[0m\u001b[0mi\u001b[0m\u001b[0;34m]\u001b[0m\u001b[0;34m,\u001b[0m \u001b[0mpoints\u001b[0m\u001b[0;34m[\u001b[0m\u001b[0;36m1\u001b[0m\u001b[0;34m,\u001b[0m\u001b[0;34m:\u001b[0m\u001b[0;34m]\u001b[0m\u001b[0;34m[\u001b[0m\u001b[0mi\u001b[0m\u001b[0;34m]\u001b[0m\u001b[0;34m)\u001b[0m\u001b[0;34m)\u001b[0m\u001b[0;34m\u001b[0m\u001b[0m\n\u001b[0m",
      "\u001b[0;31mIndexError\u001b[0m: index 22 is out of bounds for axis 0 with size 22"
     ]
    },
    {
     "data": {
      "image/png": "[encoded data removed]",
      "text/plain": [
       "<Figure size 432x288 with 1 Axes>"
      ]
     },
     "metadata": {},
     "output_type": "display_data"
    }
   ],
   "source": [
    "fig, ax = plt.subplots()\n",
    "ax.scatter(points[0,:], points[1,:])\n",
    "\n",
    "for i in range(68):\n",
    "    ax.annotate(i, (points[0,:][i], points[1,:][i]))"
   ]
  },
  {
   "cell_type": "code",
   "execution_count": 79,
   "metadata": {},
   "outputs": [
    {
     "data": {
      "text/plain": [
       "53149.0"
      ]
     },
     "execution_count": 79,
     "metadata": {},
     "output_type": "execute_result"
    }
   ],
   "source": [
    "x.shape_mean.shape[0]/3"
   ]
  },
  {
   "cell_type": "code",
   "execution_count": null,
   "metadata": {},
   "outputs": [],
   "source": []
  }
 ],
 "metadata": {
  "kernelspec": {
   "display_name": "Python 3",
   "language": "python",
   "name": "python3"
  },
  "language_info": {
   "codemirror_mode": {
    "name": "ipython",
    "version": 3
   },
   "file_extension": ".py",
   "mimetype": "text/x-python",
   "name": "python",
   "nbconvert_exporter": "python",
   "pygments_lexer": "ipython3",
   "version": "3.6.5"
  }
 },
 "nbformat": 4,
 "nbformat_minor": 2
}
