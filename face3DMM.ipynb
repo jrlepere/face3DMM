{
 "cells": [
  {
   "cell_type": "code",
   "execution_count": 1,
   "metadata": {},
   "outputs": [
    {
     "name": "stderr",
     "output_type": "stream",
     "text": [
      "/home/hao/anaconda3/lib/python3.6/site-packages/h5py/__init__.py:36: FutureWarning: Conversion of the second argument of issubdtype from `float` to `np.floating` is deprecated. In future, it will be treated as `np.float64 == np.dtype(float).type`.\n",
      "  from ._conv import register_converters as _register_converters\n"
     ]
    }
   ],
   "source": [
    "import numpy as np\n",
    "import h5py\n",
    "import trimesh\n",
    "import matplotlib.pyplot as plt\n",
    "from random import random, uniform\n",
    "import dlib\n",
    "from scipy.optimize import lsq_linear"
   ]
  },
  {
   "cell_type": "code",
   "execution_count": 2,
   "metadata": {},
   "outputs": [
    {
     "name": "stderr",
     "output_type": "stream",
     "text": [
      "Using TensorFlow backend.\n"
     ]
    }
   ],
   "source": [
    "%run optimizers/gradient_descent.ipynb\n",
    "%run initializers/pose_parameters.ipynb\n",
    "%run initializers/shape_parameters.ipynb"
   ]
  },
  {
   "cell_type": "code",
   "execution_count": 3,
   "metadata": {},
   "outputs": [],
   "source": [
    "class Face3DMM:\n",
    "    \"\"\"\n",
    "    Optimizer definition for finding the optimal PCA weights to construct a 3D model from 2D image.\n",
    "    \"\"\"\n",
    "    \n",
    "    def __init__(self, basel_model_filepath):\n",
    "        \"\"\"\n",
    "        \"\"\"\n",
    "        \n",
    "        # load the basel model\n",
    "        model = h5py.File(basel_model_filepath, 'r')\n",
    "        \n",
    "        # get indexes of feature points\n",
    "        feature_point_indexes = self.get_feature_point_indexes(model)\n",
    "        \n",
    "        # load shape data and extract only the feature points\n",
    "        self.shape_mean = np.array(model['shape']['model']['mean'])[feature_point_indexes]\n",
    "        self.shape_pcaBasis = np.array(model['shape']['model']['pcaBasis'])[feature_point_indexes]\n",
    "        self.shape_pcaVariance = np.array(model['shape']['model']['pcaVariance'])\n",
    "        \n",
    "        # the number of shape components\n",
    "        self.num_features = int(len(feature_point_indexes)/3)\n",
    "        self.num_components = len(self.shape_pcaVariance)\n",
    "        \n",
    "        # reshape the components for matrix operations\n",
    "        self.shape_mean = self.shape_mean.reshape(self.shape_mean.shape+(1,))\n",
    "        self.shape_pcaVariance = self.shape_pcaVariance.reshape(self.shape_pcaVariance.shape+(1,))\n",
    "    \n",
    "    \n",
    "    def get_3DMM(self, face_image):\n",
    "        \"\"\"\n",
    "        Gets a 3DMM for an image of a face.\n",
    "        \n",
    "        Args:\n",
    "          face_image: the image of the face\n",
    "        \n",
    "        Returns:\n",
    "          A 3DMM for the face in the 2D image\n",
    "        \"\"\"\n",
    "        \n",
    "        # TODO\n",
    "        \n",
    "        return None\n",
    "    \n",
    "    \n",
    "    def optimize(self, target_features, i=25, j=1000):\n",
    "        \"\"\"\n",
    "        Gets optimal weights for a 3DMM reconstruction from the 2D input features.\n",
    "        \n",
    "        Args:\n",
    "          target_features: the 2D target features [x1, y1, x2, y2, ...]            (2*f,1)\n",
    "          i: the number of additional iterations for pose and shape estimations\n",
    "          j: the number of optimizer iterations\n",
    "          where\n",
    "            f: the number of features\n",
    "        \n",
    "        Returns:\n",
    "          Optimal weights for a 3DMM face reconstruction\n",
    "        \"\"\"\n",
    "        \n",
    "        # initial pose and shape parameters\n",
    "        ri, ti, si = initialize_pose_parameters(target_features, np.zeros((self.num_components,1)), self.shape_mean, self.shape_pcaBasis)\n",
    "        ai = initialize_shape_parameters(target_features, self.shape_mean, self.shape_pcaBasis, self.shape_pcaVariance, ri, ti, si)\n",
    "        for _ in range(i):\n",
    "            ri, ti, si = initialize_pose_parameters(target_features, ai, self.shape_mean, self.shape_pcaBasis)\n",
    "            ai = initialize_shape_parameters(target_features, self.shape_mean, self.shape_pcaBasis, self.shape_pcaVariance, ri, ti, si)\n",
    "        \n",
    "        return gradient_descent(\n",
    "            target_features,\n",
    "            self.shape_mean,\n",
    "            self.shape_pcaBasis,\n",
    "            self.shape_pcaVariance,\n",
    "            ai,\n",
    "            ri,\n",
    "            ti,\n",
    "            si,\n",
    "            optimizer='adam',\n",
    "            num_iterations=j)\n",
    "    \n",
    "    \n",
    "    def feature_point_transformation(self, a, r, t, s):\n",
    "        \"\"\"\n",
    "        Gets a 2D transformation of each feature point.\n",
    "        \n",
    "        Args:\n",
    "          a: the pca weights              (c, 1)\n",
    "          r: the rotation matrix          (3, 3)\n",
    "          t: the translation matrix       (2, 1)\n",
    "          s: the scale matrix             (1)\n",
    "          where\n",
    "            f: the number of features\n",
    "            c: the number of components\n",
    "          \n",
    "        Returns:\n",
    "          A 2D projection for each feature point.\n",
    "        \"\"\"\n",
    "        \n",
    "        # calculate [u1, v2, w3, ..., un, vn, wn]\n",
    "        points = self.shape_mean + np.matmul(self.shape_pcaBasis, a)\n",
    "        \n",
    "        # format the points into (3, f)\n",
    "        points = np.reshape(points, (3, self.num_features), order='F')\n",
    "        \n",
    "        # SOP, 3D to 2D projection\n",
    "        points = s * np.matmul(np.array([[1.,0.,0.],[0.,1.,0.]]), np.matmul(r,points)) + s * np.repeat(t,self.num_features,axis=-1)\n",
    "        \n",
    "        # return the transformed points\n",
    "        return points\n",
    "    \n",
    "    \n",
    "    def get_feature_point_indexes(self, model):\n",
    "        \"\"\"\n",
    "        Gets the indexes of the points that represent the features.\n",
    "\n",
    "        Args:\n",
    "          model: the loaded h5 basel face model\n",
    "\n",
    "        Returns:\n",
    "          The point index for each feature\n",
    "        \"\"\"\n",
    "\n",
    "        # get the features\n",
    "        features = model['metadata']['landmarks']['text'].value.decode('utf-8')\n",
    "        features = features.split('\\n')[:-1]\n",
    "        features = [feature[feature.find('1')+2:].split(' ') for feature in features]\n",
    "        features = np.array(features).astype(np.float32)\n",
    "        \n",
    "        # get the points\n",
    "        points = np.array(model['shape']['representer']['points'])\n",
    "        \n",
    "        # index holder\n",
    "        indexes = []\n",
    "\n",
    "        # for each feature\n",
    "        for feature in features:\n",
    "\n",
    "            # verify the feature was found\n",
    "            found = False\n",
    "\n",
    "            # search each point to match the \n",
    "            for index, point in enumerate(points.T):\n",
    "\n",
    "                # test equality\n",
    "                if all(point == feature):\n",
    "\n",
    "                    # append point index and break\n",
    "                    # need to append three consecutive points because pca is in a flatten list\n",
    "                    indexes.append(3*index)    # u coordinate of point\n",
    "                    indexes.append(3*index+1)  # v coordinate of point\n",
    "                    indexes.append(3*index+2)  # w coordinate of point\n",
    "                    found = True\n",
    "                    break\n",
    "\n",
    "            # test the point was found and if not raise error\n",
    "            if not found:\n",
    "                raise Exception('Could not find the feature point: %s' % str(feature))\n",
    "                \n",
    "        # sort the indexes, for no reason other than asthetic appeal\n",
    "        indexes.sort()\n",
    "        \n",
    "        # return the indexes\n",
    "        return indexes\n",
    "    \n",
    "        "
   ]
  },
  {
   "cell_type": "code",
   "execution_count": 4,
   "metadata": {},
   "outputs": [
    {
     "data": {
      "image/png": "[encoded data removed]",
      "text/plain": [
       "<Figure size 432x288 with 1 Axes>"
      ]
     },
     "metadata": {},
     "output_type": "display_data"
    }
   ],
   "source": [
    "x = Face3DMM(basel_model_filepath='../basel/model2017-1_bfm_nomouth.h5')\n",
    "weights = np.array([uniform(0, 0) for i in range(199)]).reshape((199,1))\n",
    "points = x.feature_point_transformation(\n",
    "    a=weights,\n",
    "    r=np.array([\n",
    "        [1,0,0],\n",
    "        [0,1,0],\n",
    "        [0,0,1]\n",
    "    ]),\n",
    "    t=np.array([0,0]).reshape((2,1)),\n",
    "    s=1.\n",
    ")\n",
    "plt.plot(points[0,:], points[1,:], 'ro')\n",
    "plt.show()"
   ]
  },
  {
   "cell_type": "code",
   "execution_count": 88,
   "metadata": {},
   "outputs": [
    {
     "name": "stdout",
     "output_type": "stream",
     "text": [
      "(199, 1)\n",
      "[[1. 0. 0.]\n",
      " [0. 1. 0.]\n",
      " [0. 0. 1.]]\n",
      "[[-0.20377266]\n",
      " [-0.6840127 ]]\n",
      "1.099196616404046\n"
     ]
    },
    {
     "data": {
      "image/png": "[encoded data removed]",
      "text/plain": [
       "<Figure size 432x288 with 1 Axes>"
      ]
     },
     "metadata": {},
     "output_type": "display_data"
    }
   ],
   "source": [
    "a, r, t, s = x.optimize(points.flatten(), i=100, j=10000)\n",
    "print(a.shape)\n",
    "print(r)\n",
    "print(t)\n",
    "print(s)\n",
    "test_points = x.feature_point_transformation(\n",
    "    a=a,\n",
    "    r=r,\n",
    "    t=t,\n",
    "    s=s\n",
    ")\n",
    "plt.plot(test_points[0,:], test_points[1,:], 'ro')\n",
    "plt.show()"
   ]
  },
  {
   "cell_type": "code",
   "execution_count": 9,
   "metadata": {},
   "outputs": [
    {
     "name": "stdout",
     "output_type": "stream",
     "text": [
      "left.eye.bottom 1 30.8319283 28.8719139 93.7743988\n",
      "left.eye.corner_inner 1 16.1573315 31.8608284 92.9888535\n",
      "left.eye.corner_outer 1 43.0308571 32.5797234 86.7202759\n",
      "left.eye.pupil.center 1 30.8336086 33.2174835 95.220459\n",
      "left.eye.top 1 30.8075256 37.1855469 95.3033066\n",
      "right.eye.bottom 1 -31.677433 28.7479153 93.8427048\n",
      "right.eye.corner_inner 1 -17.0949841 31.7714787 93.1282425\n",
      "right.eye.corner_outer 1 -44.0275459 32.4399872 86.6149063\n",
      "right.eye.pupil.center 1 -31.5763073 33.1489372 95.2801437\n",
      "right.eye.top 1 -31.5933933 37.0980988 95.341156\n"
     ]
    }
   ],
   "source": [
    "model = h5py.File('../basel/model2017-1_bfm_nomouth.h5', 'r')\n",
    "features = model['metadata']['landmarks']['text'].value.decode('utf-8')\n",
    "for f in features.split('\\n'):\n",
    "    if '.eye.' in f:\n",
    "        print(f)"
   ]
  },
  {
   "cell_type": "code",
   "execution_count": null,
   "metadata": {},
   "outputs": [],
   "source": []
  }
 ],
 "metadata": {
  "kernelspec": {
   "display_name": "Python 3",
   "language": "python",
   "name": "python3"
  },
  "language_info": {
   "codemirror_mode": {
    "name": "ipython",
    "version": 3
   },
   "file_extension": ".py",
   "mimetype": "text/x-python",
   "name": "python",
   "nbconvert_exporter": "python",
   "pygments_lexer": "ipython3",
   "version": "3.6.5"
  }
 },
 "nbformat": 4,
 "nbformat_minor": 2
}
