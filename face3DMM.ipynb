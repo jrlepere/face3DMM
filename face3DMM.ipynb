{
 "cells": [
  {
   "cell_type": "code",
   "execution_count": 1,
   "metadata": {},
   "outputs": [],
   "source": [
    "import numpy as np\n",
    "import h5py\n",
    "import trimesh\n",
    "import matplotlib.pyplot as plt\n",
    "from random import random, uniform\n",
    "import dlib\n",
    "from scipy.optimize import lsq_linear\n",
    "import pyglet\n",
    "import time"
   ]
  },
  {
   "cell_type": "code",
   "execution_count": 2,
   "metadata": {},
   "outputs": [
    {
     "name": "stderr",
     "output_type": "stream",
     "text": [
      "Using TensorFlow backend.\n"
     ]
    }
   ],
   "source": [
    "%run features/basel_features/index_loader.ipynb\n",
    "%run basel_model/BaselModel.ipynb\n",
    "%run optimizers/GradientDescent.ipynb\n",
    "%run optimizers/initializers/EstimationRefinementInitializer.ipynb\n",
    "%run optimizers/inputs/SingleImageInput.ipynb\n",
    "%run optimizers/inputs/ContinuousImagesInput.ipynb\n",
    "%run optimizers/outputs/FaceModelMeshViewer.ipynb"
   ]
  },
  {
   "cell_type": "code",
   "execution_count": 3,
   "metadata": {},
   "outputs": [
    {
     "name": "stdout",
     "output_type": "stream",
     "text": [
      "TESTING\n",
      "TESTING\n",
      "TESTING\n",
      "TESTING\n",
      "TESTING\n",
      "TESTING\n",
      "TESTING\n",
      "TESTING\n",
      "TESTING\n",
      "TESTING\n",
      "TESTING\n",
      "TESTING\n",
      "TESTING\n",
      "TESTING\n",
      "TESTING\n",
      "TESTING\n",
      "TESTING\n",
      "TESTING\n",
      "TESTING\n",
      "TESTING\n"
     ]
    }
   ],
   "source": [
    "baselModel = BaselModel('./model2017-1_bfm_nomouth.h5')\n",
    "        \n",
    "# get indexes of model feature points and associated dlib feature point numbers, indexed at 1\n",
    "feature_point_indexes, dlib_points = get_feature_point_indexes('./feature_points.csv')\n",
    "        \n",
    "# extract only the feature points\n",
    "shape_mean_features = baselModel.getShapeMean(pointIndexes=feature_point_indexes)\n",
    "shape_pcaBasis_features = baselModel.getShapePCABasis(pointIndexes=feature_point_indexes)\n",
    "        \n",
    "triangles = baselModel.getModelMeshTriangles()\n",
    "    \n",
    "initializer = EstimationRefinementInitializer(numIterations=1)\n",
    "\n",
    "optimizer = GradientDescent(\n",
    "        mean = shape_mean_features,\n",
    "        pcaBasis = shape_pcaBasis_features,\n",
    "        pcaVariance = baselModel.getShapePCAVariance(),\n",
    "        numIterations = 5000,\n",
    "        initializer = initializer)\n",
    "\n",
    "inputHandler = ContinuousImagesInput(\n",
    "        ['./test_images/test_image_1.jpeg', './test_images/test_image_2.jpeg'],\n",
    "        './shape_predictor_68_face_landmarks.dat',\n",
    "        dlib_points)\n",
    "\n",
    "sceneGenerator = SceneGenerator(\n",
    "        baselModel.getShapeMean(),\n",
    "        baselModel.getShapePCABasis(),\n",
    "        baselModel.getShapePCAVariance(),\n",
    "        triangles)\n",
    "\n",
    "sceneViewer = SceneViewer(sceneGenerator.getScene(np.zeros((299, 1)), 1, 1, 1), start_loop=False)\n",
    "\n",
    "def benchmark(dt):\n",
    "    print(\"TESTING\", flush=True)\n",
    "    a, r, t, s = optimizer.optimize(inputHandler.getNext())\n",
    "    scene = sceneGenerator.getScene(a, r, t, s)\n",
    "    scene.set_camera()\n",
    "    sceneViewer.scene = scene\n",
    "    sceneViewer.on_draw()\n",
    "        \n",
    "pyglet.clock.schedule(benchmark)\n",
    "\n",
    "#a, r, t, s = optimizer.optimize(inputHandler.getNext())\n",
    "\n",
    "#outputHandler.handle(a, r, t, s)\n",
    "pyglet.app.run()\n",
    "            "
   ]
  },
  {
   "cell_type": "code",
   "execution_count": null,
   "metadata": {},
   "outputs": [],
   "source": []
  }
 ],
 "metadata": {
  "kernelspec": {
   "display_name": "Python 3",
   "language": "python",
   "name": "python3"
  },
  "language_info": {
   "codemirror_mode": {
    "name": "ipython",
    "version": 3
   },
   "file_extension": ".py",
   "mimetype": "text/x-python",
   "name": "python",
   "nbconvert_exporter": "python",
   "pygments_lexer": "ipython3",
   "version": "3.6.7"
  }
 },
 "nbformat": 4,
 "nbformat_minor": 2
}
