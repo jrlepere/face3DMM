{
 "cells": [
  {
   "cell_type": "code",
   "execution_count": 3,
   "metadata": {},
   "outputs": [],
   "source": [
    "import numpy as np\n",
    "import cv2\n",
    "import dlib"
   ]
  },
  {
   "cell_type": "code",
   "execution_count": 2,
   "metadata": {},
   "outputs": [],
   "source": [
    "class FeatureExtractor:\n",
    "    \n",
    "    def __init__(self, dlib_shape_predictor_filepath):\n",
    "        \n",
    "        self.dlib_shape_predictor_filepath = dlib_shape_predictor_filepath\n",
    "\n",
    "\n",
    "    def extract_features(self, image_path):\n",
    "        \"\"\"\n",
    "        Extracts features from a 2D image.\n",
    "\n",
    "        Args:\n",
    "          image: the path to the image\n",
    "\n",
    "        Resources:\n",
    "          https://www.pyimagesearch.com/2017/04/03/facial-landmarks-dlib-opencv-python/\n",
    "\n",
    "        Returns:\n",
    "          A list of extracted features in the form [x1, y1, x2, y2, ..., xn, yn]\n",
    "        \"\"\"\n",
    "\n",
    "        # dlib detector and predictor\n",
    "        detector = dlib.get_frontal_face_detector()\n",
    "        predictor = dlib.shape_predictor(self.dlib_shape_predictor_filepath)\n",
    "        \n",
    "        # read in the image\n",
    "        image = cv2.imread(image_path)\n",
    "        \n",
    "        # detect the face bounding box\n",
    "        rects = detector(image, 1)\n",
    "\n",
    "        # extract the first face\n",
    "        if len(rects) == 0:\n",
    "            raise Exception(\"Could not find any faces in the image!!\")\n",
    "        rect = rects[0]\n",
    "        \n",
    "        # arrays for the x and y feature components\n",
    "        features_x = []\n",
    "        features_y = []\n",
    "        \n",
    "        # extract each faeture point\n",
    "        shape = predictor(image, rect)\n",
    "        for i in range(shape.num_parts):\n",
    "            features_x.append(shape.part(i).x)\n",
    "            features_y.append(shape.part(i).y)\n",
    "\n",
    "        # slice off the contour points, as these are not used in feature optimization\n",
    "        features_x = np.array(features_x)[17:]\n",
    "        features_y = np.array(features_y)[17:]\n",
    "        \n",
    "        # normalize/center the x and y components separately\n",
    "        features_x = (features_x - np.mean(features_x)) / np.std(features_x)\n",
    "        features_y = (features_y - np.mean(features_y)) / np.std(features_y)\n",
    "        \n",
    "        # return the feature points in a list [x1, y1, x2, y2, ..., xn, yn]\n",
    "        return np.reshape(np.concatenate([features_x.reshape(len(features_x),1), features_y.reshape(len(features_x),1)],axis=-1), (len(features_x)*2))\n"
   ]
  },
  {
   "cell_type": "code",
   "execution_count": null,
   "metadata": {},
   "outputs": [],
   "source": []
  }
 ],
 "metadata": {
  "kernelspec": {
   "display_name": "Python 3",
   "language": "python",
   "name": "python3"
  },
  "language_info": {
   "codemirror_mode": {
    "name": "ipython",
    "version": 3
   },
   "file_extension": ".py",
   "mimetype": "text/x-python",
   "name": "python",
   "nbconvert_exporter": "python",
   "pygments_lexer": "ipython3",
   "version": "3.6.5"
  }
 },
 "nbformat": 4,
 "nbformat_minor": 2
}
