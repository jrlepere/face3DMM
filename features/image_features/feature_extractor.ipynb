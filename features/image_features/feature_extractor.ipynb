{
 "cells": [
  {
   "cell_type": "code",
   "execution_count": 3,
   "metadata": {},
   "outputs": [],
   "source": [
    "import numpy as np\n",
    "import cv2\n",
    "import dlib"
   ]
  },
  {
   "cell_type": "code",
   "execution_count": 15,
   "metadata": {},
   "outputs": [],
   "source": [
    "class FeatureExtractor:\n",
    "    \n",
    "    def __init__(self, dlib_shape_predictor_filepath):\n",
    "        \n",
    "        self.dlib_shape_predictor_filepath = dlib_shape_predictor_filepath\n",
    "\n",
    "\n",
    "    def extract_features(self, image_path):\n",
    "        \"\"\"\n",
    "        Extracts features from a 2D image.\n",
    "\n",
    "        Args:\n",
    "          image: the path to the image\n",
    "\n",
    "        Resources:\n",
    "          https://www.pyimagesearch.com/2017/04/03/facial-landmarks-dlib-opencv-python/\n",
    "\n",
    "        Returns:\n",
    "          A list of extracted features in the form [x1, y1, x2, y2, ..., xn, yn]\n",
    "        \"\"\"\n",
    "\n",
    "        detector = dlib.get_frontal_face_detector()\n",
    "        predictor = dlib.shape_predictor(self.dlib_shape_predictor_filepath)\n",
    "        image = cv2.imread(image_path)\n",
    "        rects = detector(image, 1)\n",
    "\n",
    "        features_x = []\n",
    "        features_y = []\n",
    "        for rect in rects:\n",
    "            shape = predictor(image, rect)\n",
    "            for i in range(shape.num_parts):\n",
    "                features_x.append(shape.part(i).x)\n",
    "                features_y.append(shape.part(i).y)\n",
    "\n",
    "        features_x = np.array(features_x)\n",
    "        features_y = np.array(features_y)\n",
    "        \n",
    "        features_x = (features_x - np.mean(features_x)) / np.std(features_x)\n",
    "        features_y = (features_y - np.mean(features_y)) / np.std(features_y)\n",
    "        \n",
    "        return np.reshape(np.concatenate([features_x.reshape(68,1),features_y.reshape(68,1)],axis=-1), (136))\n"
   ]
  },
  {
   "cell_type": "code",
   "execution_count": null,
   "metadata": {},
   "outputs": [],
   "source": []
  }
 ],
 "metadata": {
  "kernelspec": {
   "display_name": "Python 3",
   "language": "python",
   "name": "python3"
  },
  "language_info": {
   "codemirror_mode": {
    "name": "ipython",
    "version": 3
   },
   "file_extension": ".py",
   "mimetype": "text/x-python",
   "name": "python",
   "nbconvert_exporter": "python",
   "pygments_lexer": "ipython3",
   "version": "3.6.5"
  }
 },
 "nbformat": 4,
 "nbformat_minor": 2
}
