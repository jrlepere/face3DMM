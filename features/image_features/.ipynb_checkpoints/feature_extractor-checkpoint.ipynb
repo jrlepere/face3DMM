{
 "cells": [
  {
   "cell_type": "code",
   "execution_count": 9,
   "metadata": {},
   "outputs": [],
   "source": [
    "import numpy as np\n",
    "import cv2\n",
    "import dlib"
   ]
  },
  {
   "cell_type": "code",
   "execution_count": 10,
   "metadata": {},
   "outputs": [],
   "source": [
    "def extract_features(image_path):\n",
    "    \"\"\"\n",
    "    Extracts features from a 2D image.\n",
    "    \n",
    "    Args:\n",
    "      image: the path to the image\n",
    "\n",
    "    Resources:\n",
    "      https://www.pyimagesearch.com/2017/04/03/facial-landmarks-dlib-opencv-python/\n",
    "      \n",
    "    Returns:\n",
    "      A list of extracted features\n",
    "    \"\"\"\n",
    "    \n",
    "    detector = dlib.get_frontal_face_detector()\n",
    "    predictor = dlib.shape_predictor('./dlib/shape_predictor_68_face_landmarks.dat-1')\n",
    "    image = cv2.imread(image_path)\n",
    "    \n",
    "    #image = cv2.cvtColor(image, cv2.COLOR_BGR2GRAY)\n",
    "    print(detector)\n",
    "    rects = detector(image, 1)\n",
    "    print(rects)\n",
    "    \n",
    "    #cv2.imwrite('test.jpg',image[rect.left():rect.right(), rect.top():rect.bottom()])\n",
    "    \n",
    "    for rect in rects:\n",
    "        shape = predictor(image, rect)\n",
    "        print(shape)\n",
    "        cv2.rectangle(image, (rect.left(), rect.top()), (rect.right(), rect.bottom()), (0, 255, 0), 2)\n",
    "        for key, value in get_basel_features(shape).items():\n",
    "            cv2.circle(image, (value[0], value[1]), 1, (0, 0, 255), -1)\n",
    "            #cv2.circle(image, (shape.part(36).x, shape.part(36).y), 1, (0, 0, 255), -1)\n",
    "        print(shape.num_parts)    \n",
    "        cv2.imwrite('test.jpg',image)\n",
    "        #image[rect.top():rect.bottom(), rect.left():rect.right()]\n",
    "\n",
    "\n",
    "    "
   ]
  },
  {
   "cell_type": "code",
   "execution_count": 8,
   "metadata": {},
   "outputs": [
    {
     "name": "stdout",
     "output_type": "stream",
     "text": [
      "<dlib.fhog_object_detector object at 0x7f4d1e7a99d0>\n",
      "rectangles[[(322, 150) (476, 305)]]\n",
      "<dlib.full_object_detection object at 0x7f4d1e7a94c8>\n",
      "68\n"
     ]
    }
   ],
   "source": [
    "extract_features('../test_images/test_image_2.jpeg')"
   ]
  },
  {
   "cell_type": "code",
   "execution_count": 11,
   "metadata": {},
   "outputs": [],
   "source": [
    "def get_basel_features(dlib_features):\n",
    "    \"\"\"\n",
    "    Aligns the dlib features with that of basel.\n",
    "    \n",
    "    Args:\n",
    "      dlib_features: the dlib features\n",
    "    \n",
    "    Returns:\n",
    "       lekfmnoeijhfgowejhgoe\n",
    "    \"\"\"\n",
    "    \n",
    "    eye_features = get_eye_features(dlib_features)\n",
    "    \n",
    "    return eye_features\n",
    "   "
   ]
  },
  {
   "cell_type": "code",
   "execution_count": 12,
   "metadata": {},
   "outputs": [],
   "source": [
    "def mid(p1, p2):\n",
    "    \"\"\"\n",
    "    Return point in the middle of p1 and p2 dlib points\n",
    "\n",
    "    Args:\n",
    "      p1: the first point\n",
    "      p2: the second point\n",
    "\n",
    "    Returns:\n",
    "      The point between p1 and p2\n",
    "    \"\"\"\n",
    "\n",
    "    return (int((p1.x + p2.x)/2), int((p1.y + p2.y)/2))"
   ]
  },
  {
   "cell_type": "code",
   "execution_count": 13,
   "metadata": {},
   "outputs": [],
   "source": [
    "def center(p1, p2, p3, p4):\n",
    "    \"\"\"\n",
    "    Returns the center of 4 dlib points.\n",
    "\n",
    "    Args:\n",
    "      p1, p2, p3, p4: the 4 points\n",
    "\n",
    "    Returns:\n",
    "      The center of the points\n",
    "    \"\"\"\n",
    "\n",
    "    a = mid(p1, p2)\n",
    "    b = mid(p3, p4)\n",
    "    return (int((a[0] + b[0])/2), int((a[1] + b[1])/2))"
   ]
  },
  {
   "cell_type": "code",
   "execution_count": null,
   "metadata": {},
   "outputs": [],
   "source": [
    "def single(p):\n",
    "    \"\"\"\n",
    "    Converts a dlib point to a simple (x, y) point.\n",
    "    \n",
    "    Args:\n",
    "      p: the dlib point\n",
    "    \n",
    "    Returns:\n",
    "      A point (x,y)\n",
    "    \"\"\""
   ]
  },
  {
   "cell_type": "code",
   "execution_count": 14,
   "metadata": {},
   "outputs": [],
   "source": [
    "def get_eye_features(dlib_features):\n",
    "    return dict(\n",
    "        left_eye_bottom=mid(dlib_features.part(41), dlib_features.part(40)),\n",
    "        left_eye_top=mid(dlib_features.part(37), dlib_features.part(38)),\n",
    "        left_eye_corner_inner=single(dlib_features.part(39)),\n",
    "        left_eye_corner_outer=single(dlib_features.part(36)),\n",
    "        left_eye_pupil_center=center(dlib_features.part(37),dlib_features.part(38),dlib_features.part(40),dlib_features.part(41)),\n",
    "        right_eye_bottom=mid(dlib_features.part(46), dlib_features.part(47)),\n",
    "        right_eye_top=mid(dlib_features.part(43), dlib_features.part(44)),\n",
    "        right_eye_corner_inner=single(dlib_features.part(42)),\n",
    "        right_eye_corner_outer=single(dlib_features.part(45)),\n",
    "        right_eye_pupil_center=center(dlib_features.part(43),dlib_features.part(44),dlib_features.part(46),dlib_features.part(47))\n",
    "    )"
   ]
  },
  {
   "cell_type": "code",
   "execution_count": null,
   "metadata": {},
   "outputs": [],
   "source": [
    "def get_nose_features(dlib_features):\n",
    "    return dict(\n",
    "        left_eye_bottom=mid(dlib_features.part(41), dlib_features.part(40)),\n",
    "        left_eye_top=mid(dlib_features.part(37), dlib_features.part(38)),\n",
    "        left_eye_corner_inner=(dlib_features.part(39).x,dlib_features.part(39).y),\n",
    "        left_eye_corner_outer=(dlib_features.part(36).x,dlib_features.part(36).y),\n",
    "        left_eye_pupil_center=center(dlib_features.part(37),dlib_features.part(38),dlib_features.part(40),dlib_features.part(41)),\n",
    "        right_eye_bottom=mid(dlib_features.part(46), dlib_features.part(47)),\n",
    "        right_eye_top=mid(dlib_features.part(43), dlib_features.part(44)),\n",
    "        right_eye_corner_inner=(dlib_features.part(42).x,dlib_features.part(42).y),\n",
    "        right_eye_corner_outer=(dlib_features.part(45).x,dlib_features.part(45).y),\n",
    "        right_eye_pupil_center=center(dlib_features.part(43),dlib_features.part(44),dlib_features.part(46),dlib_features.part(47))\n",
    "    )"
   ]
  }
 ],
 "metadata": {
  "kernelspec": {
   "display_name": "Python 3",
   "language": "python",
   "name": "python3"
  },
  "language_info": {
   "codemirror_mode": {
    "name": "ipython",
    "version": 3
   },
   "file_extension": ".py",
   "mimetype": "text/x-python",
   "name": "python",
   "nbconvert_exporter": "python",
   "pygments_lexer": "ipython3",
   "version": "3.6.5"
  }
 },
 "nbformat": 4,
 "nbformat_minor": 2
}
