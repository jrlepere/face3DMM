{
 "cells": [
  {
   "cell_type": "code",
   "execution_count": 1,
   "metadata": {},
   "outputs": [],
   "source": [
    "def get_feature_point_indexes(filename='/home/hao/lepere/face3DMM/features/basel_features/feature_indexes_68_3.txt'):\n",
    "    \"\"\"\n",
    "    Gets the indexes of the poitns that represent the features from a txt file.\n",
    "\n",
    "    Args:\n",
    "      filename: the name of the file containing the points\n",
    "\n",
    "    Return:\n",
    "        The point index for each feature\n",
    "    \"\"\"\n",
    "\n",
    "    # index holder\n",
    "    indexes = []\n",
    "\n",
    "    with open(filename, 'r') as f:\n",
    "        next(f)\n",
    "        for index in f:\n",
    "            indexes.append(3*int(index))\n",
    "            indexes.append(3*int(index)+1)\n",
    "            indexes.append(3*int(index)+2)\n",
    "\n",
    "    indexes.sort()\n",
    "\n",
    "    return indexes\n"
   ]
  },
  {
   "cell_type": "code",
   "execution_count": null,
   "metadata": {},
   "outputs": [],
   "source": []
  }
 ],
 "metadata": {
  "kernelspec": {
   "display_name": "Python 3",
   "language": "python",
   "name": "python3"
  },
  "language_info": {
   "codemirror_mode": {
    "name": "ipython",
    "version": 3
   },
   "file_extension": ".py",
   "mimetype": "text/x-python",
   "name": "python",
   "nbconvert_exporter": "python",
   "pygments_lexer": "ipython3",
   "version": "3.6.5"
  }
 },
 "nbformat": 4,
 "nbformat_minor": 2
}
