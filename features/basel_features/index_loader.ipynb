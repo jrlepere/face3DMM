{
 "cells": [
  {
   "cell_type": "code",
   "execution_count": 2,
   "metadata": {},
   "outputs": [
    {
     "name": "stderr",
     "output_type": "stream",
     "text": [
      "/home/hao/anaconda3/lib/python3.6/site-packages/h5py/__init__.py:36: FutureWarning: Conversion of the second argument of issubdtype from `float` to `np.floating` is deprecated. In future, it will be treated as `np.float64 == np.dtype(float).type`.\n",
      "  from ._conv import register_converters as _register_converters\n"
     ]
    }
   ],
   "source": [
    "import numpy as np\n",
    "from numpy import genfromtxt"
   ]
  },
  {
   "cell_type": "code",
   "execution_count": 1,
   "metadata": {},
   "outputs": [],
   "source": [
    "def get_feature_point_indexes(filename):\n",
    "    \"\"\"\n",
    "    Gets the indexes of the basel features points and their associated dlib point.\n",
    "\n",
    "    Args:\n",
    "      filename: a csv file containing dlib point to basel model point mapping\n",
    "\n",
    "    Return:\n",
    "        The point index for each feature\n",
    "    \"\"\"\n",
    "\n",
    "    # index holder and dlib point association\n",
    "    indexes = []\n",
    "    dlib_points = []\n",
    "\n",
    "    # open the file, skip the first line, and read each index\n",
    "    with open(filename, 'r') as f:\n",
    "        next(f)\n",
    "        for index in f:\n",
    "            dlib_points.append(int(index.split(',')[0]))\n",
    "            index = index.split(',')[1]\n",
    "            # add coordinate points flattened as is for the model\n",
    "            indexes.append(3*int(index))\n",
    "            indexes.append(3*int(index)+1)\n",
    "            indexes.append(3*int(index)+2)\n",
    "\n",
    "    #return the indexes\n",
    "    return indexes, dlib_points\n"
   ]
  },
  {
   "cell_type": "code",
   "execution_count": null,
   "metadata": {},
   "outputs": [],
   "source": []
  }
 ],
 "metadata": {
  "kernelspec": {
   "display_name": "Python 3",
   "language": "python",
   "name": "python3"
  },
  "language_info": {
   "codemirror_mode": {
    "name": "ipython",
    "version": 3
   },
   "file_extension": ".py",
   "mimetype": "text/x-python",
   "name": "python",
   "nbconvert_exporter": "python",
   "pygments_lexer": "ipython3",
   "version": "3.6.5"
  }
 },
 "nbformat": 4,
 "nbformat_minor": 2
}
