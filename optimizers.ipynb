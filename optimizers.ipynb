{
 "cells": [
  {
   "cell_type": "code",
   "execution_count": 5,
   "metadata": {},
   "outputs": [],
   "source": [
    "from keras.models import Sequential\n",
    "from keras.layers import Input, multiply\n",
    "\n"
   ]
  },
  {
   "cell_type": "code",
   "execution_count": null,
   "metadata": {},
   "outputs": [],
   "source": [
    "def gradient_descent(input_features, mean, pcaBasis, pcaVariance, optimizer='sgd'):\n",
    "    \"\"\"\n",
    "    Gradient descent optimizer for finding the best pca weights for 3DMM face construction.\n",
    "    \n",
    "    Args:\n",
    "      input_features: the features of the input 2D image\n",
    "      mean: the mean 3D feature points\n",
    "      pcaBasis: the pca basis for the feature points\n",
    "      pcaVariance: the pca variance for the feature points\n",
    "      optimizer: the optimizer for the keras mode (i.e. 'sgd', 'adam', etc.)\n",
    "    \n",
    "    Return:\n",
    "      Optimal weights for a 3DMM face reconstruction.\n",
    "    \"\"\"\n",
    "    \n",
    "    '''\n",
    "    Notes:\n",
    "    - input_features is y_true in keras!\n",
    "    - The unkown weights are:\n",
    "        - a := pca weights\n",
    "        - R := rotation matrix\n",
    "        - t := translation matrix\n",
    "        - s := scale\n",
    "    - The goal is to optimize the weights and return a!!\n",
    "    '''\n",
    "    \n",
    "    '''\n",
    "    # calculate [u1, v2, w3, ..., un, vn, wn]\n",
    "    points = self.shape_mean + np.matmul(self.shape_pcaBasis, a * self.shape_pcaVariance)\n",
    "\n",
    "    # format the points into (3, n)\n",
    "    points = np.array([[points[i], points[i+1], points[i+2]] for i in range(0,len(points),3)]).T\n",
    "\n",
    "    # SOP, 3D to 2D projection\n",
    "    points = s * np.matmul(np.array([[1.,0.,0.],[0.,1.,0.]]), np.matmul(r,points)) + s * np.repeat(t,60,axis=-1)\n",
    "    '''\n",
    "    \n",
    "    # build the keras model\n",
    "    \n",
    "    input_mean = Input(shape=mean.shape)\n",
    "    input_pcaBasis = Input(shape=pcaBasis.shape)\n",
    "    input_pcaVariance = Input(shape=pcaVariance.shape)\n",
    "    \n",
    "    pcaWeights = Input(shape=pcaVariance.shape)\n",
    "    \n",
    "    out = multiply([pcaWeights, input_pcaVariance])\n",
    "    \n",
    "    model = Model(inputs=[input_mean, input_pcaBasis, input_pcaVariance], outputs=out)\n",
    "    \n",
    "    model.compile(\n",
    "        optimizer=optimizer,\n",
    "        loss='mean_squared_error'\n",
    "    )\n",
    "    \n",
    "    model.fit(\n",
    "        x=[mean, pcaBasis, pcaVariance],\n",
    "        y = input_features,\n",
    "        batch_sze=1,\n",
    "        epochs=100,\n",
    "        verbose=1\n",
    "    )\n",
    "    "
   ]
  }
 ],
 "metadata": {
  "kernelspec": {
   "display_name": "Python 3",
   "language": "python",
   "name": "python3"
  },
  "language_info": {
   "codemirror_mode": {
    "name": "ipython",
    "version": 3
   },
   "file_extension": ".py",
   "mimetype": "text/x-python",
   "name": "python",
   "nbconvert_exporter": "python",
   "pygments_lexer": "ipython3",
   "version": "3.6.5"
  }
 },
 "nbformat": 4,
 "nbformat_minor": 2
}
