{
 "cells": [
  {
   "cell_type": "code",
   "execution_count": 2,
   "metadata": {},
   "outputs": [],
   "source": [
    "import numpy as np\n",
    "import cv2\n",
    "import dlib"
   ]
  },
  {
   "cell_type": "code",
   "execution_count": 137,
   "metadata": {},
   "outputs": [],
   "source": [
    "def extract_features(image_path):\n",
    "    \"\"\"\n",
    "    Extracts features from a 2D image.\n",
    "    \n",
    "    Args:\n",
    "      image: the path to the image\n",
    "\n",
    "    Resources:\n",
    "      https://www.pyimagesearch.com/2017/04/03/facial-landmarks-dlib-opencv-python/\n",
    "      \n",
    "    Returns:\n",
    "      A list of extracted features\n",
    "    \"\"\"\n",
    "    \n",
    "    detector = dlib.get_frontal_face_detector()\n",
    "    predictor = dlib.shape_predictor('./dlib/shape_predictor_68_face_landmarks.dat-1')\n",
    "    image = cv2.imread(image_path)\n",
    "    \n",
    "    #image = cv2.cvtColor(image, cv2.COLOR_BGR2GRAY)\n",
    "    print(detector)\n",
    "    rects = detector(image, 1)\n",
    "    print(rects)\n",
    "    \n",
    "    #cv2.imwrite('test.jpg',image[rect.left():rect.right(), rect.top():rect.bottom()])\n",
    "    \n",
    "    for rect in rects:\n",
    "        shape = predictor(image, rect)\n",
    "        print(shape)\n",
    "        cv2.rectangle(image, (rect.left(), rect.top()), (rect.right(), rect.bottom()), (0, 255, 0), 2)\n",
    "        #for i in range(shape.num_parts):\n",
    "        cv2.circle(image, (shape.part(39).x, shape.part(39).y), 1, (0, 0, 255), -1)\n",
    "        cv2.circle(image, (shape.part(36).x, shape.part(36).y), 1, (0, 0, 255), -1)\n",
    "        print(shape.num_parts)    \n",
    "        cv2.imwrite('test.jpg',image)\n",
    "        #image[rect.top():rect.bottom(), rect.left():rect.right()]\n",
    "\n",
    "def get_basel_features(dlib_features):\n",
    "    \"\"\"\n",
    "    Aligns the dlib features with that of basel.\n",
    "    \n",
    "    Args:\n",
    "      dlib_features: the dlib features\n",
    "    \n",
    "    Returns:\n",
    "       lekfmnoeijhfgowejhgoe\n",
    "    \"\"\"\n",
    "    \n",
    "    def mid(p1, p2):\n",
    "        \"\"\"\n",
    "        Return point in the middle of p1 and p2 dlib points\n",
    "        \n",
    "        Args:\n",
    "          p1: the first point\n",
    "          p2: the second point\n",
    "        \n",
    "        Returns:\n",
    "          The point between p1 and p2\n",
    "        \"\"\"\n",
    "        \n",
    "        return ((p1.x + p2.x)/2, (p1.y + p2.y)/2)\n",
    "    \n",
    "    def center(p1, p2, p3, p4):\n",
    "        \"\"\"\n",
    "        Returns the center of 4 dlib points.\n",
    "        \n",
    "        Args:\n",
    "          p1, p2, p3, p4: the 4 points\n",
    "          \n",
    "        Returns:\n",
    "          The center of the points\n",
    "        \"\"\"\n",
    "        \n",
    "        a = mid(p1, p2)\n",
    "        b = mid(p3, p4)\n",
    "        return ((a[0] + b[0])/2, (a[1] + b[1])/2)\n",
    "    \n",
    "    def get_eye_features():\n",
    "        return dict(\n",
    "            left_eye_bottom=mid(dlib_features.part(41), dlib_features.part(40)),\n",
    "            left_eye_top=mid(dlib_features.part(37), dlib_features.part(38)),\n",
    "            left_eye_corner_inner=(dlib_features.part(39).x,dlib_features.part(39).y),\n",
    "            left_eye_corner_outer=(dlib_features.part(36).x,dlib_features.part(36).y),\n",
    "            left_eye_pupil_center=center(37,38,40,41),\n",
    "            right_eye_bottom=mid(dlib_features.part(46), dlib_features.part(47)),\n",
    "            right_eye_top=mid(dlib_features.part(43), dlib_features.part(44)),\n",
    "            right_eye_corner_inner=(dlib_features.part(42).x,dlib_features.part(42).y),\n",
    "            right_eye_corner_outer=(dlib_features.part(45).x,dlib_features.part(45).y),\n",
    "            right_eye_pupil_center=center(43,44,46,47)\n",
    "        )\n",
    "    "
   ]
  },
  {
   "cell_type": "code",
   "execution_count": 135,
   "metadata": {},
   "outputs": [
    {
     "name": "stdout",
     "output_type": "stream",
     "text": [
      "<dlib.fhog_object_detector object at 0x7fdd5c6fb650>\n",
      "rectangles[[(322, 150) (476, 305)]]\n",
      "<dlib.full_object_detection object at 0x7fdd5c6fb8b8>\n",
      "68\n"
     ]
    }
   ],
   "source": [
    "extract_features('../test_images/test_image_2.jpeg')"
   ]
  },
  {
   "cell_type": "code",
   "execution_count": null,
   "metadata": {},
   "outputs": [],
   "source": [
    "left.eye.bottom 1 30.8319283 28.8719139 93.7743988\n",
    "left.eye.corner_inner 1 16.1573315 31.8608284 92.9888535\n",
    "left.eye.corner_outer 1 43.0308571 32.5797234 86.7202759\n",
    "left.eye.pupil.center 1 30.8336086 33.2174835 95.220459\n",
    "left.eye.top 1 30.8075256 37.1855469 95.3033066\n",
    "right.eye.bottom 1 -31.677433 28.7479153 93.8427048\n",
    "right.eye.corner_inner 1 -17.0949841 31.7714787 93.1282425\n",
    "right.eye.corner_outer 1 -44.0275459 32.4399872 86.6149063\n",
    "right.eye.pupil.center 1 -31.5763073 33.1489372 95.2801437\n",
    "right.eye.top 1 -31.5933933 37.0980988 95.341156"
   ]
  },
  {
   "cell_type": "code",
   "execution_count": 110,
   "metadata": {},
   "outputs": [
    {
     "data": {
      "text/plain": [
       "{'x': 2}"
      ]
     },
     "execution_count": 110,
     "metadata": {},
     "output_type": "execute_result"
    }
   ],
   "source": [
    "dict(x=2)"
   ]
  },
  {
   "cell_type": "code",
   "execution_count": null,
   "metadata": {},
   "outputs": [],
   "source": []
  }
 ],
 "metadata": {
  "kernelspec": {
   "display_name": "Python 3",
   "language": "python",
   "name": "python3"
  },
  "language_info": {
   "codemirror_mode": {
    "name": "ipython",
    "version": 3
   },
   "file_extension": ".py",
   "mimetype": "text/x-python",
   "name": "python",
   "nbconvert_exporter": "python",
   "pygments_lexer": "ipython3",
   "version": "3.6.5"
  }
 },
 "nbformat": 4,
 "nbformat_minor": 2
}
