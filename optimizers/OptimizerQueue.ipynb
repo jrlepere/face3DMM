{
 "cells": [
  {
   "cell_type": "code",
   "execution_count": 1,
   "metadata": {},
   "outputs": [],
   "source": [
    "class OptimizerQueue:\n",
    "    \n",
    "    def __init__(self, optimizers=[]):\n",
    "        self.optimizers = optimizers\n",
    "        self.currentIndex = 0\n",
    "        \n",
    "    def add(self, optimizer):\n",
    "        self.optimizers.append(optimizer)\n",
    "    \n",
    "    def optimizeNext(self, targetFeatures):\n",
    "        if len(self.optimizers) == 0:\n",
    "            raise Exception('No optimizers in queue!')\n",
    "        a, r, t, s = self.optimizers[self.currentIndex].optimize(targetFeatures)\n",
    "        nextIndex = (self.currentIndex) % len(self.optimizers)\n",
    "        self.optimizers[nextIndex].update(a, r, t, s)\n",
    "        self.currentIndex = nextIndex\n",
    "        return a, r, t, s\n",
    "    \n",
    "    def openAll(self):\n",
    "        for optimizer in self.optimizers:\n",
    "            optimizer.open()\n",
    "    \n",
    "    def closeAll(self):\n",
    "        for optimizer in self.optimizers:\n",
    "            optimizer.close()"
   ]
  },
  {
   "cell_type": "code",
   "execution_count": null,
   "metadata": {},
   "outputs": [],
   "source": []
  }
 ],
 "metadata": {
  "kernelspec": {
   "display_name": "Python 3",
   "language": "python",
   "name": "python3"
  },
  "language_info": {
   "codemirror_mode": {
    "name": "ipython",
    "version": 3
   },
   "file_extension": ".py",
   "mimetype": "text/x-python",
   "name": "python",
   "nbconvert_exporter": "python",
   "pygments_lexer": "ipython3",
   "version": "3.6.7"
  }
 },
 "nbformat": 4,
 "nbformat_minor": 2
}
