{
 "cells": [
  {
   "cell_type": "code",
   "execution_count": 1,
   "metadata": {},
   "outputs": [
    {
     "name": "stderr",
     "output_type": "stream",
     "text": [
      "ERROR:root:File `'optimizers/Optimizer.ipynb.py'` not found.\n"
     ]
    },
    {
     "ename": "NameError",
     "evalue": "name 'Optimizer' is not defined",
     "output_type": "error",
     "traceback": [
      "\u001b[0;31m---------------------------------------------------------------------------\u001b[0m",
      "\u001b[0;31mNameError\u001b[0m                                 Traceback (most recent call last)",
      "\u001b[0;32m<ipython-input-1-dbb0669c5954>\u001b[0m in \u001b[0;36m<module>\u001b[0;34m\u001b[0m\n\u001b[1;32m      1\u001b[0m \u001b[0mget_ipython\u001b[0m\u001b[0;34m(\u001b[0m\u001b[0;34m)\u001b[0m\u001b[0;34m.\u001b[0m\u001b[0mrun_line_magic\u001b[0m\u001b[0;34m(\u001b[0m\u001b[0;34m'run'\u001b[0m\u001b[0;34m,\u001b[0m \u001b[0;34m'optimizers/Optimizer.ipynb'\u001b[0m\u001b[0;34m)\u001b[0m\u001b[0;34m\u001b[0m\u001b[0;34m\u001b[0m\u001b[0m\n\u001b[1;32m      2\u001b[0m \u001b[0;34m\u001b[0m\u001b[0m\n\u001b[0;32m----> 3\u001b[0;31m \u001b[0;32mclass\u001b[0m \u001b[0mAlternatingPoseShapeEstimation\u001b[0m\u001b[0;34m(\u001b[0m\u001b[0mOptimizer\u001b[0m\u001b[0;34m)\u001b[0m\u001b[0;34m:\u001b[0m\u001b[0;34m\u001b[0m\u001b[0;34m\u001b[0m\u001b[0m\n\u001b[0m\u001b[1;32m      4\u001b[0m \u001b[0;34m\u001b[0m\u001b[0m\n\u001b[1;32m      5\u001b[0m     \u001b[0;32mdef\u001b[0m \u001b[0m__init__\u001b[0m\u001b[0;34m(\u001b[0m\u001b[0mself\u001b[0m\u001b[0;34m,\u001b[0m \u001b[0mmean\u001b[0m\u001b[0;34m,\u001b[0m \u001b[0mpcaBasis\u001b[0m\u001b[0;34m,\u001b[0m \u001b[0mpcaVariance\u001b[0m\u001b[0;34m,\u001b[0m \u001b[0mnumIterations\u001b[0m\u001b[0;34m=\u001b[0m\u001b[0;36m3\u001b[0m\u001b[0;34m)\u001b[0m\u001b[0;34m:\u001b[0m\u001b[0;34m\u001b[0m\u001b[0;34m\u001b[0m\u001b[0m\n",
      "\u001b[0;31mNameError\u001b[0m: name 'Optimizer' is not defined"
     ]
    }
   ],
   "source": [
    "%run optimizers/Optimizer.ipynb\n",
    "\n",
    "class AlternatingPoseShapeEstimation(Optimizer):\n",
    "    \n",
    "    def __init__(self, mean, pcaBasis, pcaVariance, numIterations=3):\n",
    "        Optimizer.__init__(self, mean, pcaBasis, pcaVariance)\n",
    "        self.numIterations = numIterations\n",
    "        self.ai, self.ri, self.ti, self.si = Optimizer.getDefaults(self.numComponents)\n",
    "    \n",
    "    def open(self):\n",
    "        return\n",
    "    \n",
    "    def close(self):\n",
    "        return\n",
    "    \n",
    "    def optimize(self, targetFeatures):\n",
    "        for _ in range(self.numIterations):\n",
    "            self.ri, self.ti, self.si = self._initializePoseParameters(targetFeatures, self.ai)\n",
    "            self.ai = self._initializeShapeParameters(targetFeatures, self.ri, self.ti, self.si)\n",
    "        return self.ai, self.ri, self.ti, self.si\n",
    "    \n",
    "    def update(self, a, r, t, s):\n",
    "        self.ai = a\n",
    "        self.ri = r\n",
    "        self.ti = t\n",
    "        self.si = s\n",
    "    \n",
    "    def _initializePoseParameters(self, targetFeatures, a):\n",
    "        \n",
    "        # calculate [u1, v2, w3, ..., un, vn, wn]\n",
    "        model_features = self.mean + np.matmul(self.pcaBasis, a)\n",
    "\n",
    "        # A component buffer\n",
    "        A = np.zeros((2*self.numFeatures, 8))\n",
    "\n",
    "        # initiaze A\n",
    "        for i in range(self.numFeatures):\n",
    "            A[2*i,:]   = [model_features[3*i], model_features[3*i+1], model_features[3*i+2], 1, 0, 0, 0, 0]\n",
    "            A[2*i+1,:] = [0, 0, 0, 0, model_features[3*i], model_features[3*i+1], model_features[3*i+2], 1]\n",
    "\n",
    "        # solve the linear equation\n",
    "        k = lsq_linear(A, targetFeatures, lsq_solver='exact')['x'].reshape((8,1))\n",
    "\n",
    "        r1 = np.array([k[0][0], k[1][0], k[2][0]])\n",
    "        r2 = np.array([k[4][0], k[5][0], k[6][0]])\n",
    "\n",
    "        s = (np.linalg.norm(r1) + np.linalg.norm(r2)) / 2.\n",
    "        t = np.array([k[3][0]/s, k[7][0]/s]).reshape((2,1))\n",
    "\n",
    "        U,S,V = np.linalg.svd(np.array([r1, r2, np.cross(r1, r2)]))\n",
    "        r = np.matmul(U,V) # TODO, should .T??\n",
    "        if np.linalg.det(r) == -1:\n",
    "            U,S,V = np.linalg.svd(np.array([r1, r2, -1*np.cross(r1, r2)]))\n",
    "            r = np.matmul(U,V.T) # TODO, should .T??\n",
    "        \n",
    "        return r, t, s\n",
    "    \n",
    "    def _initializeShapeParameters(self, targetFeatures, r, t, s):\n",
    "\n",
    "        # C and h component data buffers\n",
    "        C = np.zeros((2*self.numFeatures, self.numComponents))\n",
    "        h = np.zeros((2*self.numFeatures, 1))\n",
    "\n",
    "        # initialize C\n",
    "        for i in range(self.numFeatures):\n",
    "            C[2*i]   = s * (r[0,0] * self.pcaBasis[3*i,:] + r[0,1] * self.pcaBasis[3*i+1,:] + r[0,2] * self.pcaBasis[3*i+2,:])\n",
    "            C[2*i+1] = s * (r[1,0] * self.pcaBasis[3*i,:] + r[1,1] * self.pcaBasis[3*i+1,:] + r[1,2] * self.pcaBasis[3*i+2,:])\n",
    "            h[2*i]   = targetFeatures[2*i] - s * (np.matmul(r[0], self.mean[3*i:3*i+3]) + t[0,0])\n",
    "            h[2*i+1] = targetFeatures[2*i+1] - s * (np.matmul(r[1], self.mean[3*i:3*i+3]) + t[1,0])\n",
    "\n",
    "        # return the result\n",
    "        std = np.sqrt(self.pcaVariance.reshape(self.numComponents,))   # TODO: pass std not variance to function\n",
    "        bounds = (-3*std, 3*std)\n",
    "        return lsq_linear(C, h.flatten(), bounds=bounds)['x'].reshape((self.numComponents,1)) # TODO, constraint"
   ]
  },
  {
   "cell_type": "code",
   "execution_count": null,
   "metadata": {},
   "outputs": [],
   "source": []
  }
 ],
 "metadata": {
  "kernelspec": {
   "display_name": "Python 3",
   "language": "python",
   "name": "python3"
  },
  "language_info": {
   "codemirror_mode": {
    "name": "ipython",
    "version": 3
   },
   "file_extension": ".py",
   "mimetype": "text/x-python",
   "name": "python",
   "nbconvert_exporter": "python",
   "pygments_lexer": "ipython3",
   "version": "3.6.7"
  }
 },
 "nbformat": 4,
 "nbformat_minor": 2
}
