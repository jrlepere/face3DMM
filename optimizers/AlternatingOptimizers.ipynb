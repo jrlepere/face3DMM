{
 "cells": [
  {
   "cell_type": "code",
   "execution_count": null,
   "metadata": {},
   "outputs": [],
   "source": [
    "%run optimizers/Optimizer.ipynb\n",
    "\n",
    "class AlternatingOptimizers(Optimizer):\n",
    "    \n",
    "    def __init__(self, mean, pcaBasis, pcaVariance, optimizers=[], numIterations=1):\n",
    "        Optimizer.__init__(self, mean, pcaBasis, pcaVariance)\n",
    "        self.optimizers = optimizers\n",
    "        self.numIterations = numIterations\n",
    "    \n",
    "    def open(self):\n",
    "        self._raiseExceptionIfEmptyOptimizers()\n",
    "        for optimizer in self.optimizers:\n",
    "            optimizer.open()\n",
    "    \n",
    "    def close(self):\n",
    "        self._raiseExceptionIfEmptyOptimizers()\n",
    "        for optimizer in self.optimizers:\n",
    "            optimizer.close()\n",
    "    \n",
    "    def optimize(self, targetFeatures):\n",
    "        self._raiseExceptionIfEmptyOptimizers()\n",
    "        for _ in range(self.numIterations):\n",
    "            for i in range(len(self.optimizers)):\n",
    "                a, r, t, s = self.optimizers[i].optimize(targetFeatures)\n",
    "                self.optimizers[(i+1)%len(self.optimizers)].update(a, r, t, s)\n",
    "        return a, r, t, s\n",
    "    \n",
    "    def update(self, a, r, t, s):\n",
    "        self._raiseExceptionIfEmptyOptimizers()\n",
    "        self.optimizers[0].update(a, r, t, s)\n",
    "    \n",
    "    def add(self, optimizer):\n",
    "        self.optimizers.add(optimizer)\n",
    "    \n",
    "    def _raiseExceptionIfEmptyOptimizers(self):\n",
    "        if len(self.optimizers) == 0:\n",
    "            raise Exception('No optimizers added!')\n",
    "    "
   ]
  }
 ],
 "metadata": {
  "kernelspec": {
   "display_name": "Python 3",
   "language": "python",
   "name": "python3"
  },
  "language_info": {
   "codemirror_mode": {
    "name": "ipython",
    "version": 3
   },
   "file_extension": ".py",
   "mimetype": "text/x-python",
   "name": "python",
   "nbconvert_exporter": "python",
   "pygments_lexer": "ipython3",
   "version": "3.6.7"
  }
 },
 "nbformat": 4,
 "nbformat_minor": 2
}
