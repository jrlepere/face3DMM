{
 "cells": [
  {
   "cell_type": "code",
   "execution_count": null,
   "metadata": {},
   "outputs": [],
   "source": [
    "%run optimizers/Optimizer.ipynb\n",
    "%run optimizers/PoseEstimation.ipynb\n",
    "%run optimizers/ShapeEstimation.ipynb\n",
    "\n",
    "class AlternatingPoseShapeEstimation2(Optimizer):\n",
    "    \n",
    "    def __init__(self, mean, pcaBasis, pcaVariance, numIterations=3):\n",
    "        Optimizer.__init__(self, mean, pcaBasis, pcaVariance)\n",
    "        self.numIterations = numIterations\n",
    "        self.ai, self.ri, self.ti, self.si = Optimizer.getDefaults(self.numComponents)\n",
    "        self.poseEstimator = PoseEstimation(mean, pcaBasis, pcaVariance, 2000)\n",
    "        self.shapeEstimator = ShapeEstimation(mean, pcaBasis, pcaVariance, 10000)\n",
    "    \n",
    "    def open(self):\n",
    "        self.poseEstimator.open()\n",
    "        self.shapeEstimator.open()\n",
    "    \n",
    "    def close(self):\n",
    "        self.poseEstimator.close()\n",
    "        self.shapeEstimator.close()\n",
    "    \n",
    "    def optimize(self, targetFeatures):\n",
    "        for _ in range(self.numIterations):\n",
    "            self.ai, self.ri, self.ti, self.si = self.poseEstimator.optimize(targetFeatures)\n",
    "            self.shapeEstimator.update(self.ai, self.ri, self.ti, self.si)\n",
    "            self.ai, self.ri, self.ti, self.si = self.shapeEstimator.optimize(targetFeatures)\n",
    "            self.poseEstimator.update(self.ai, self.ri, self.ti, self.si)\n",
    "        return self.ai, self.ri, self.ti, self.si\n",
    "    \n",
    "    def update(self, a, r, t, s):\n",
    "        self.poseEstimator.update(a, r, t, s)\n",
    "        self.shapeEstimator.update(a, r, t, s)\n",
    "    "
   ]
  }
 ],
 "metadata": {
  "kernelspec": {
   "display_name": "Python 3",
   "language": "python",
   "name": "python3"
  },
  "language_info": {
   "codemirror_mode": {
    "name": "ipython",
    "version": 3
   },
   "file_extension": ".py",
   "mimetype": "text/x-python",
   "name": "python",
   "nbconvert_exporter": "python",
   "pygments_lexer": "ipython3",
   "version": "3.6.7"
  }
 },
 "nbformat": 4,
 "nbformat_minor": 2
}
