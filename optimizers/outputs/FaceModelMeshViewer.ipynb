{
 "cells": [
  {
   "cell_type": "code",
   "execution_count": 1,
   "metadata": {},
   "outputs": [
    {
     "name": "stderr",
     "output_type": "stream",
     "text": [
      "ERROR:root:File `'optimizers/outputs/Outputs.ipynb.py'` not found.\n",
      "WARNING:trimesh:No FCL -- collision checking will not work\n",
      "WARNING:trimesh:shapely.geometry.Polygon not available!\n"
     ]
    },
    {
     "ename": "NameError",
     "evalue": "name 'Outputs' is not defined",
     "output_type": "error",
     "traceback": [
      "\u001b[0;31m---------------------------------------------------------------------------\u001b[0m",
      "\u001b[0;31mNameError\u001b[0m                                 Traceback (most recent call last)",
      "\u001b[0;32m<ipython-input-1-7fd1328d520d>\u001b[0m in \u001b[0;36m<module>\u001b[0;34m\u001b[0m\n\u001b[1;32m      5\u001b[0m \u001b[0;32mimport\u001b[0m \u001b[0mnumpy\u001b[0m \u001b[0;32mas\u001b[0m \u001b[0mnp\u001b[0m\u001b[0;34m\u001b[0m\u001b[0;34m\u001b[0m\u001b[0m\n\u001b[1;32m      6\u001b[0m \u001b[0;34m\u001b[0m\u001b[0m\n\u001b[0;32m----> 7\u001b[0;31m \u001b[0;32mclass\u001b[0m \u001b[0mFaceModelMeshViewer\u001b[0m\u001b[0;34m(\u001b[0m\u001b[0mOutputs\u001b[0m\u001b[0;34m)\u001b[0m\u001b[0;34m:\u001b[0m\u001b[0;34m\u001b[0m\u001b[0;34m\u001b[0m\u001b[0m\n\u001b[0m\u001b[1;32m      8\u001b[0m \u001b[0;34m\u001b[0m\u001b[0m\n\u001b[1;32m      9\u001b[0m     \u001b[0;32mdef\u001b[0m \u001b[0m__init__\u001b[0m\u001b[0;34m(\u001b[0m\u001b[0mself\u001b[0m\u001b[0;34m,\u001b[0m \u001b[0mmean\u001b[0m\u001b[0;34m,\u001b[0m \u001b[0mpcaBasis\u001b[0m\u001b[0;34m,\u001b[0m \u001b[0mpcaVariance\u001b[0m\u001b[0;34m,\u001b[0m \u001b[0mtriangles\u001b[0m\u001b[0;34m)\u001b[0m\u001b[0;34m:\u001b[0m\u001b[0;34m\u001b[0m\u001b[0;34m\u001b[0m\u001b[0m\n",
      "\u001b[0;31mNameError\u001b[0m: name 'Outputs' is not defined"
     ]
    }
   ],
   "source": [
    "from trimesh.base import Trimesh\n",
    "from trimesh.scene.viewer import SceneViewer\n",
    "import h5py\n",
    "import numpy as np\n",
    "\n",
    "class SceneGenerator():\n",
    "    \n",
    "    def __init__(self, mean, pcaBasis, pcaVariance, triangles):\n",
    "        self.mean = mean\n",
    "        self.pcaBasis = pcaBasis\n",
    "        self.pcaVariance = pcaVariance\n",
    "        self.triangles = triangles\n",
    "    \n",
    "    def getScene(self, a, r, t, s):\n",
    "        return self.getMesh(a, r, t, s).scene()\n",
    "    \n",
    "    def getMesh(self, a, r, t, s):\n",
    "        points = self._modelPointCombination(a)\n",
    "        return self._getModelMesh(points, self.triangles)\n",
    "    \n",
    "    def _modelPointCombination(self, a):\n",
    "        # get number of points\n",
    "        num_points = int(len(self.mean)/3)\n",
    "\n",
    "        # calculate [u1, v2, w3, ..., un, vn, wn]\n",
    "        points = self.mean + np.matmul(self.pcaBasis, a)\n",
    "\n",
    "        # format the points into (3, n)\n",
    "        return np.reshape(points, (3, num_points), order='F')\n",
    "    \n",
    "    def _getModelMesh(self, points, triangles):\n",
    "        # reformat the points\n",
    "        if len(points.shape) == 1:\n",
    "            points = np.reshape(points, (3,-1), 'F').T\n",
    "        elif len(points.shape) == 2:\n",
    "            if points.shape[0] == 3:\n",
    "                points = points.T\n",
    "\n",
    "        # reformat the triangles\n",
    "        if len(triangles.shape) == 1:\n",
    "            np.reshape(triangles, (3,-1), 'F').T\n",
    "        elif len(triangles.shape) == 2:\n",
    "            if triangles.shape[0] == 3:\n",
    "                triangles = triangles.T\n",
    "\n",
    "        return Trimesh(vertices=points, faces=triangles)"
   ]
  },
  {
   "cell_type": "code",
   "execution_count": null,
   "metadata": {},
   "outputs": [],
   "source": []
  }
 ],
 "metadata": {
  "kernelspec": {
   "display_name": "Python 3",
   "language": "python",
   "name": "python3"
  },
  "language_info": {
   "codemirror_mode": {
    "name": "ipython",
    "version": 3
   },
   "file_extension": ".py",
   "mimetype": "text/x-python",
   "name": "python",
   "nbconvert_exporter": "python",
   "pygments_lexer": "ipython3",
   "version": "3.6.7"
  }
 },
 "nbformat": 4,
 "nbformat_minor": 2
}
