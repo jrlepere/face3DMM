{
 "cells": [
  {
   "cell_type": "code",
   "execution_count": null,
   "metadata": {},
   "outputs": [],
   "source": [
    "%run optimizers/outputs/Outputs.ipynb\n",
    "from trimesh.base import Trimesh\n",
    "import h5py\n",
    "import numpy as np\n",
    "\n",
    "class FaceModelMeshViewer(Outputs):\n",
    "    \n",
    "    def __init__(self, mean, pcaBasis, triangles):\n",
    "        self.mean = mean\n",
    "        self.pcaBasis = pcaBasis\n",
    "        self.triangles = triangles\n",
    "    \n",
    "    def handle(self, a, r, t, s):\n",
    "        points = self._modelPointCombination(a)\n",
    "        mesh = self._getModelMesh(points, self.triangles)\n",
    "        scene = mesh.scene()\n",
    "        scene.show(viewer='gl')\n",
    "    \n",
    "    def _modelPointCombination(self, a):\n",
    "        # get number of points\n",
    "        num_points = int(len(self.mean)/3)\n",
    "\n",
    "        # calculate [u1, v2, w3, ..., un, vn, wn]\n",
    "        points = self.mean + np.matmul(self.pcaBasis, a)\n",
    "\n",
    "        # format the points into (3, n)\n",
    "        return np.reshape(points, (3, num_points), order='F')\n",
    "    \n",
    "    def _getModelMesh(self, points, triangles):\n",
    "        # reformat the points\n",
    "        if len(points.shape) == 1:\n",
    "            points = np.reshape(points, (3,-1), 'F').T\n",
    "        elif len(points.shape) == 2:\n",
    "            if points.shape[0] == 3:\n",
    "                points = points.T\n",
    "\n",
    "        # reformat the triangles\n",
    "        if len(triangles.shape) == 1:\n",
    "            np.reshape(triangles, (3,-1), 'F').T\n",
    "        elif len(triangles.shape) == 2:\n",
    "            if triangles.shape[0] == 3:\n",
    "                triangles = triangles.T\n",
    "\n",
    "        return Trimesh(vertices=points, faces=triangles)"
   ]
  }
 ],
 "metadata": {
  "kernelspec": {
   "display_name": "Python 3",
   "language": "python",
   "name": "python3"
  },
  "language_info": {
   "codemirror_mode": {
    "name": "ipython",
    "version": 3
   },
   "file_extension": ".py",
   "mimetype": "text/x-python",
   "name": "python",
   "nbconvert_exporter": "python",
   "pygments_lexer": "ipython3",
   "version": "3.6.7"
  }
 },
 "nbformat": 4,
 "nbformat_minor": 2
}
