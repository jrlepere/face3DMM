{
 "cells": [
  {
   "cell_type": "code",
   "execution_count": 1,
   "metadata": {},
   "outputs": [],
   "source": [
    "import abc\n",
    "\n",
    "class Initializer:\n",
    "    \n",
    "    def __init__(self, mean, pcaBasis, pcaVariance):\n",
    "        self.mean = mean\n",
    "        self.pcaBasis = pcaBasis\n",
    "        self.pcaVariance = pcaVariance\n",
    "        self.numComponents = len(pcaVariance)\n",
    "        self.numFeatures = len(mean) // 3\n",
    "    \n",
    "    @staticmethod\n",
    "    def getDefaults(numComponents):\n",
    "        ai = np.zeros((numComponents, 1))\n",
    "        ri = np.zeros((3, 3))\n",
    "        ti = np.zeros((2, 1))\n",
    "        si = np.zeros(1)\n",
    "        return ai, ri, ti, si\n",
    "    \n",
    "    @abc.abstractmethod\n",
    "    def initialize(self, targetFeatures):\n",
    "        pass\n",
    "    \n",
    "    @abc.abstractmethod\n",
    "    def notify(self, a, r, t, s):\n",
    "        pass"
   ]
  },
  {
   "cell_type": "code",
   "execution_count": null,
   "metadata": {},
   "outputs": [],
   "source": []
  }
 ],
 "metadata": {
  "kernelspec": {
   "display_name": "Python 3",
   "language": "python",
   "name": "python3"
  },
  "language_info": {
   "codemirror_mode": {
    "name": "ipython",
    "version": 3
   },
   "file_extension": ".py",
   "mimetype": "text/x-python",
   "name": "python",
   "nbconvert_exporter": "python",
   "pygments_lexer": "ipython3",
   "version": "3.6.7"
  }
 },
 "nbformat": 4,
 "nbformat_minor": 2
}
