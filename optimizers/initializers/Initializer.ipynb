{
 "cells": [
  {
   "cell_type": "code",
   "execution_count": 1,
   "metadata": {},
   "outputs": [],
   "source": [
    "import abc\n",
    "\n",
    "class Initializer:\n",
    "    \n",
    "    @abc.abstractmethod\n",
    "    def initialize(self):\n",
    "        # ai, ri, ti, si\n",
    "        pass\n",
    "    \n",
    "class DefaultInitializer:\n",
    "    \n",
    "    def __init__(self, numComponents):\n",
    "        self.numComponents = numComponents\n",
    "    \n",
    "    def initialize(self):\n",
    "        ai = np.zeros((self.numComponents, 1))\n",
    "        ri = np.zeros((3, 3))\n",
    "        ti = np.zeros((2, 1))\n",
    "        si = np.zeros(1)\n",
    "        return ai, ri, ti, si\n",
    "\n",
    "# TODO\n",
    "    '''\n",
    "    def __init__(self, targetFeatures, a, mean, pcaBasis):\n",
    "        self.targetFeatures = targetFeatures\n",
    "        self.a = a\n",
    "        self.mean = mean\n",
    "        self.pcaBasis = pcaBasis\n",
    "    '''"
   ]
  },
  {
   "cell_type": "code",
   "execution_count": null,
   "metadata": {},
   "outputs": [],
   "source": []
  }
 ],
 "metadata": {
  "kernelspec": {
   "display_name": "Python 3",
   "language": "python",
   "name": "python3"
  },
  "language_info": {
   "codemirror_mode": {
    "name": "ipython",
    "version": 3
   },
   "file_extension": ".py",
   "mimetype": "text/x-python",
   "name": "python",
   "nbconvert_exporter": "python",
   "pygments_lexer": "ipython3",
   "version": "3.6.7"
  }
 },
 "nbformat": 4,
 "nbformat_minor": 2
}
