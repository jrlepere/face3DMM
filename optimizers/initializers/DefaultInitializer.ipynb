{
 "cells": [
  {
   "cell_type": "code",
   "execution_count": null,
   "metadata": {},
   "outputs": [],
   "source": [
    "class DefaultInitializer:\n",
    "    \n",
    "    def initialize(self, targetFeatures, mean, pcaBasis, pcaVariance):\n",
    "        numComponents = len(pcaVariance)\n",
    "        ai = np.zeros((numComponents, 1))\n",
    "        ri = np.zeros((3, 3))\n",
    "        ti = np.zeros((2, 1))\n",
    "        si = np.zeros(1)\n",
    "        return ai, ri, ti, si"
   ]
  }
 ],
 "metadata": {
  "kernelspec": {
   "display_name": "Python 3",
   "language": "python",
   "name": "python3"
  },
  "language_info": {
   "codemirror_mode": {
    "name": "ipython",
    "version": 3
   },
   "file_extension": ".py",
   "mimetype": "text/x-python",
   "name": "python",
   "nbconvert_exporter": "python",
   "pygments_lexer": "ipython3",
   "version": "3.6.7"
  }
 },
 "nbformat": 4,
 "nbformat_minor": 2
}
