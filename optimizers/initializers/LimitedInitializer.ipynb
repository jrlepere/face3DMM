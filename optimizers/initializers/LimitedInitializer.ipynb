{
 "cells": [
  {
   "cell_type": "code",
   "execution_count": null,
   "metadata": {},
   "outputs": [],
   "source": [
    "%run optimizers/initializers/Initializer.ipynb\n",
    "\n",
    "class LimitedInitializer(Initializer):\n",
    "    \n",
    "    def __init__(self, initializer, limit=1):\n",
    "        Initializer.__init__(self, initializer.mean, initializer.pcaBasis, initializer.pcaVariance)\n",
    "        self.initializer = initializer\n",
    "        self.limit = limit\n",
    "        self.a, self.r, self.t, self.s = Initializer.getDefaults(self.numComponents)\n",
    "    \n",
    "    def initialize(self, targetFeatures):\n",
    "        if self.limit > 0:\n",
    "            self.limit -= 1\n",
    "            return self.initializer.initialize(targetFeatures)\n",
    "        else:\n",
    "            return self.a, self.r, self.t, self.s\n",
    "    \n",
    "    def notify(self, a, r, t, s):\n",
    "        if self.limit == 0:\n",
    "            self.a = a\n",
    "            self.r = r\n",
    "            self.t = t\n",
    "            self.s = s\n",
    "    "
   ]
  }
 ],
 "metadata": {
  "kernelspec": {
   "display_name": "Python 3",
   "language": "python",
   "name": "python3"
  },
  "language_info": {
   "codemirror_mode": {
    "name": "ipython",
    "version": 3
   },
   "file_extension": ".py",
   "mimetype": "text/x-python",
   "name": "python",
   "nbconvert_exporter": "python",
   "pygments_lexer": "ipython3",
   "version": "3.6.7"
  }
 },
 "nbformat": 4,
 "nbformat_minor": 2
}
