{
 "cells": [
  {
   "cell_type": "code",
   "execution_count": 42,
   "metadata": {},
   "outputs": [
    {
     "name": "stderr",
     "output_type": "stream",
     "text": [
      "ERROR:root:File `'optimizers/initializers/Initializer.ipynb.py'` not found.\n"
     ]
    }
   ],
   "source": [
    "%run optimizers/initializers/Initializer.ipynb\n",
    "import abc\n",
    "\n",
    "class Optimizer():\n",
    "    \n",
    "    def __init__(self, mean, pcaBasis, pcaVariance):\n",
    "        self.mean = mean\n",
    "        self.pcaBasis = pcaBasis\n",
    "        self.pcaVariance = pcaVariance\n",
    "        self.numComponents = len(pcaVariance)\n",
    "        self.numFeatures = len(mean) // 3\n",
    "    \n",
    "    @abc.abstractmethod\n",
    "    def optimize(self, inputHandler):\n",
    "        pass\n"
   ]
  },
  {
   "cell_type": "code",
   "execution_count": null,
   "metadata": {},
   "outputs": [],
   "source": []
  }
 ],
 "metadata": {
  "kernelspec": {
   "display_name": "Python 3",
   "language": "python",
   "name": "python3"
  },
  "language_info": {
   "codemirror_mode": {
    "name": "ipython",
    "version": 3
   },
   "file_extension": ".py",
   "mimetype": "text/x-python",
   "name": "python",
   "nbconvert_exporter": "python",
   "pygments_lexer": "ipython3",
   "version": "3.6.7"
  }
 },
 "nbformat": 4,
 "nbformat_minor": 2
}
