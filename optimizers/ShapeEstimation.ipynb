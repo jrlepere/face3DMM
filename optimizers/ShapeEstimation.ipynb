{
 "cells": [
  {
   "cell_type": "code",
   "execution_count": 1,
   "metadata": {},
   "outputs": [
    {
     "name": "stderr",
     "output_type": "stream",
     "text": [
      "ERROR:root:File `'optimizers/Optimizer.ipynb.py'` not found.\n"
     ]
    },
    {
     "ename": "NameError",
     "evalue": "name 'Optimizer' is not defined",
     "output_type": "error",
     "traceback": [
      "\u001b[0;31m---------------------------------------------------------------------------\u001b[0m",
      "\u001b[0;31mNameError\u001b[0m                                 Traceback (most recent call last)",
      "\u001b[0;32m<ipython-input-1-440040946dc6>\u001b[0m in \u001b[0;36m<module>\u001b[0;34m\u001b[0m\n\u001b[1;32m      1\u001b[0m \u001b[0mget_ipython\u001b[0m\u001b[0;34m(\u001b[0m\u001b[0;34m)\u001b[0m\u001b[0;34m.\u001b[0m\u001b[0mrun_line_magic\u001b[0m\u001b[0;34m(\u001b[0m\u001b[0;34m'run'\u001b[0m\u001b[0;34m,\u001b[0m \u001b[0;34m'optimizers/Optimizer.ipynb'\u001b[0m\u001b[0;34m)\u001b[0m\u001b[0;34m\u001b[0m\u001b[0;34m\u001b[0m\u001b[0m\n\u001b[1;32m      2\u001b[0m \u001b[0;34m\u001b[0m\u001b[0m\n\u001b[0;32m----> 3\u001b[0;31m \u001b[0;32mclass\u001b[0m \u001b[0mShapeEstimation\u001b[0m\u001b[0;34m(\u001b[0m\u001b[0mOptimizer\u001b[0m\u001b[0;34m)\u001b[0m\u001b[0;34m:\u001b[0m\u001b[0;34m\u001b[0m\u001b[0;34m\u001b[0m\u001b[0m\n\u001b[0m\u001b[1;32m      4\u001b[0m \u001b[0;34m\u001b[0m\u001b[0m\n\u001b[1;32m      5\u001b[0m     \u001b[0;32mdef\u001b[0m \u001b[0m__init__\u001b[0m\u001b[0;34m(\u001b[0m\u001b[0mself\u001b[0m\u001b[0;34m,\u001b[0m \u001b[0mmean\u001b[0m\u001b[0;34m,\u001b[0m \u001b[0mpcaBasis\u001b[0m\u001b[0;34m,\u001b[0m \u001b[0mpcaVariance\u001b[0m\u001b[0;34m,\u001b[0m \u001b[0mnumIterations\u001b[0m\u001b[0;34m=\u001b[0m\u001b[0;36m1000\u001b[0m\u001b[0;34m)\u001b[0m\u001b[0;34m:\u001b[0m\u001b[0;34m\u001b[0m\u001b[0;34m\u001b[0m\u001b[0m\n",
      "\u001b[0;31mNameError\u001b[0m: name 'Optimizer' is not defined"
     ]
    }
   ],
   "source": [
    "%run optimizers/Optimizer.ipynb\n",
    "\n",
    "class ShapeEstimation(Optimizer):\n",
    "    \n",
    "    def __init__(self, mean, pcaBasis, pcaVariance):\n",
    "        Optimizer.__init__(self, mean, pcaBasis, pcaVariance)\n",
    "    \n",
    "    def open(self):\n",
    "        self.session = tf.Session()\n",
    "        self._setVariables()\n",
    "    \n",
    "    def close(self):\n",
    "        self.session.close()\n",
    "    \n",
    "    def optimize(self, targetFeatures):\n",
    "        self._setTargetFeaturesComponent(targetFeatures)\n",
    "        self._setCComponent()\n",
    "        self._setHComponent(targetFeatures)\n",
    "        self.k = tf.linalg.lstsq(\n",
    "                matrix=self.C,\n",
    "                rhs=self.h)\n",
    "        return (np.array(self.session.run(self.k)),\n",
    "                self.r,\n",
    "                self.t,\n",
    "                self.s)\n",
    "    \n",
    "    def update(self, a, r, t, s):\n",
    "        self.r = r\n",
    "        self.t = t\n",
    "        self.s = s\n",
    "        \n",
    "    def _setVariables(self):\n",
    "        self.C = tf.Variable(np.zeros((2*self.numFeatures, self.numComponents)), name='C', trainable=False)\n",
    "        self.h = tf.Variable(np.zeros((2*self.numFeatures, 1)), name='h', trainable=False)\n",
    "        self.targetFeatures = tf.Variable(np.zeros((2*self.numFeatures, 1), dtype=np.float64), name='targetFeatures', trainable=False)\n",
    "        ai, ri, ti, si = Optimizer.getDefaults(self.numComponents)\n",
    "        self.r = ri\n",
    "        self.t = ti\n",
    "        self.s = si\n",
    "    \n",
    "    def _setTargetFeaturesComponent(self, targetFeatures):\n",
    "        self.session.run(self.targetFeatures.assign(np.reshape(targetFeatures, (2*self.numFeatures, 1))))\n",
    "    \n",
    "    def _setCComponent(self):\n",
    "        C = np.zeros((2*self.numFeatures, self.numComponents))\n",
    "        for i in range(self.numFeatures):\n",
    "            C[2*i] = (self.r[0,0] * self.pcaBasis[3*i,:]\n",
    "                    + self.r[0,1] * self.pcaBasis[3*i+1,:]\n",
    "                    + self.r[0,2] * self.pcaBasis[3*i+2,:])\n",
    "            C[2*i+1] = (self.r[1,0] * self.pcaBasis[3*i,:]\n",
    "                    + self.r[1,1] * self.pcaBasis[3*i+1,:]\n",
    "                    + self.r[1,2] * self.pcaBasis[3*i+2,:])\n",
    "        C *= self.s\n",
    "        self.session.run(self.C.assign(C))\n",
    "        \n",
    "    def _setHComponent(self, targetFeatures):\n",
    "        h = np.zeros((2*self.numFeatures, 1))\n",
    "        for i in range(self.numFeatures):\n",
    "            h[2*i]   = targetFeatures[2*i] - self.s * (np.matmul(self.r[0], self.mean[3*i:3*i+3]) + self.t[0,0])\n",
    "            h[2*i+1] = targetFeatures[2*i+1] - self.s * (np.matmul(self.r[1], self.mean[3*i:3*i+3]) + self.t[1,0])\n",
    "        self.session.run(self.h.assign(h))\n",
    "    "
   ]
  }
 ],
 "metadata": {
  "kernelspec": {
   "display_name": "Python 3",
   "language": "python",
   "name": "python3"
  },
  "language_info": {
   "codemirror_mode": {
    "name": "ipython",
    "version": 3
   },
   "file_extension": ".py",
   "mimetype": "text/x-python",
   "name": "python",
   "nbconvert_exporter": "python",
   "pygments_lexer": "ipython3",
   "version": "3.6.7"
  }
 },
 "nbformat": 4,
 "nbformat_minor": 2
}
