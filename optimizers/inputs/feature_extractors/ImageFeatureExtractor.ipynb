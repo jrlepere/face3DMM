{
 "cells": [
  {
   "cell_type": "code",
   "execution_count": null,
   "metadata": {},
   "outputs": [],
   "source": [
    "import numpy as np\n",
    "import cv2\n",
    "import dlib\n",
    "\n",
    "class ImageFeatureExtractor:\n",
    "    def __init__(self, dlibShapePredictorFilepath, dlibPoints):\n",
    "        self.detector = dlib.get_frontal_face_detector()\n",
    "        self.predictor = dlib.shape_predictor(dlibShapePredictorFilepath)\n",
    "        self.dlibPoints = dlibPoints\n",
    "    \n",
    "    def extractFeatures(self, image):\n",
    "\n",
    "        # detect the face bounding box\n",
    "        rects = self.detector(image, 1)\n",
    "\n",
    "        # extract the first face\n",
    "        if len(rects) == 0:\n",
    "            raise Exception(\"Could not find any faces in the image!!\")\n",
    "        rect = rects[0]\n",
    "\n",
    "        # arrays for the x and y feature components\n",
    "        features_x = []\n",
    "        features_y = []\n",
    "\n",
    "        # extract each faeture point\n",
    "        shape = self.predictor(image, rect)\n",
    "        for i in range(shape.num_parts):\n",
    "            features_x.append(shape.part(i).x)\n",
    "            features_y.append(shape.part(i).y)\n",
    "\n",
    "        # extract only the requested dlib points, indexed at 1\n",
    "        features_x = np.array(features_x)[[i-1 for i in self.dlibPoints]]\n",
    "        features_y = np.array(features_y)[[i-1 for i in self.dlibPoints]]\n",
    "\n",
    "        # normalize/center the x and y components separately\n",
    "        features_x = (features_x - np.mean(features_x)) / np.std(features_x)\n",
    "        features_y = (features_y - np.mean(features_y)) / np.std(features_y)\n",
    "\n",
    "        # return the feature points in a list [x1, y1, x2, y2, ..., xn, yn]\n",
    "        return np.reshape(np.concatenate([features_x.reshape(len(features_x),1), features_y.reshape(len(features_x),1)],axis=-1), (len(features_x)*2))\n"
   ]
  }
 ],
 "metadata": {
  "kernelspec": {
   "display_name": "Python 3",
   "language": "python",
   "name": "python3"
  },
  "language_info": {
   "codemirror_mode": {
    "name": "ipython",
    "version": 3
   },
   "file_extension": ".py",
   "mimetype": "text/x-python",
   "name": "python",
   "nbconvert_exporter": "python",
   "pygments_lexer": "ipython3",
   "version": "3.6.7"
  }
 },
 "nbformat": 4,
 "nbformat_minor": 2
}
